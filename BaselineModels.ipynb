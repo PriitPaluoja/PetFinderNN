{
 "cells": [
  {
   "cell_type": "markdown",
   "metadata": {},
   "source": [
    "# Baseline Tests\n",
    "\n",
    "Here we test some standard models like random forest and naive Bayes to establish some baseline for the project."
   ]
  },
  {
   "cell_type": "code",
   "execution_count": 56,
   "metadata": {},
   "outputs": [],
   "source": [
    "import os\n",
    "\n",
    "import imageio\n",
    "import pandas as pd\n",
    "import numpy as np\n",
    "\n",
    "from sklearn.ensemble import RandomForestClassifier, AdaBoostClassifier\n",
    "from sklearn.metrics import accuracy_score, precision_score, cohen_kappa_score, confusion_matrix\n",
    "from sklearn.model_selection import train_test_split, cross_val_score\n",
    "from sklearn.naive_bayes import GaussianNB\n",
    "\n",
    "from sklearn.feature_selection import SelectFromModel, SelectKBest, f_regression\n",
    "from sklearn.svm import LinearSVC\n",
    "from sklearn.pipeline import Pipeline\n",
    "\n",
    "from tqdm import tqdm\n",
    "\n",
    "import matplotlib.pyplot as plt\n",
    "%matplotlib inline"
   ]
  },
  {
   "cell_type": "code",
   "execution_count": 2,
   "metadata": {},
   "outputs": [],
   "source": [
    "data_dir = \"data\"\n",
    "\n",
    "selected_columns = [\"Type\", \"Age\", \"Breed1\", \"Breed2\", \"Gender\", \"Color1\", \"Color2\", \"Color3\",\n",
    "                    \"MaturitySize\", \"FurLength\", \"Vaccinated\", \"Dewormed\", \"Sterilized\", \"Health\",\n",
    "                    \"Quantity\", \"Fee\", \"State\", \"VideoAmt\", \"PhotoAmt\"]\n",
    "\n",
    "label_column = \"AdoptionSpeed\""
   ]
  },
  {
   "cell_type": "code",
   "execution_count": 3,
   "metadata": {},
   "outputs": [],
   "source": [
    "# Read train.csv\n",
    "# TODO: rm n-rows\n",
    "train = pd.read_csv(os.path.join(data_dir, \"train.csv\"), sep=',')\n",
    "pet_ids = train[\"PetID\"]"
   ]
  },
  {
   "cell_type": "code",
   "execution_count": 4,
   "metadata": {},
   "outputs": [],
   "source": [
    "y = train[\"AdoptionSpeed\"]\n",
    "X = train[selected_columns]"
   ]
  },
  {
   "cell_type": "code",
   "execution_count": 5,
   "metadata": {},
   "outputs": [],
   "source": [
    "X_train, X_test, y_train, y_test = train_test_split(X, y, test_size=0.3, random_state=1)"
   ]
  },
  {
   "cell_type": "code",
   "execution_count": 6,
   "metadata": {},
   "outputs": [],
   "source": [
    "def normalize(df, columns):\n",
    "    result = df.copy()\n",
    "    for feature_name in columns:\n",
    "        max_value = df[feature_name].max()\n",
    "        min_value = df[feature_name].min()\n",
    "        result[feature_name] = (df[feature_name] - min_value) / (max_value - min_value)\n",
    "    return result"
   ]
  },
  {
   "cell_type": "code",
   "execution_count": 7,
   "metadata": {},
   "outputs": [],
   "source": [
    "X_train_norm = normalize(X_train, [\"Age\", \"Fee\"]) #, \"Quantity\", \"VideoAmt\", \"PhotoAmt\"])\n",
    "X_test_norm = normalize(X_test, [\"Age\", \"Fee\"]) # ,\"Quantity\", \"VideoAmt\", \"PhotoAmt\"])"
   ]
  },
  {
   "cell_type": "code",
   "execution_count": 8,
   "metadata": {},
   "outputs": [],
   "source": [
    "X_dummies = pd.get_dummies(X, columns=[\"Type\", \"Breed1\", \"Breed2\", \"Gender\", \"Color1\", \"Color2\", \"Color3\", \"MaturitySize\", \n",
    "                                       \"FurLength\", \"Vaccinated\", \"Dewormed\", \"Sterilized\", \"Health\", \"State\"])"
   ]
  },
  {
   "cell_type": "code",
   "execution_count": 9,
   "metadata": {},
   "outputs": [],
   "source": [
    "X_train_dummies, X_test_dummies, y_train, y_test = train_test_split(X_dummies, y, test_size=0.3, random_state=1)"
   ]
  },
  {
   "cell_type": "code",
   "execution_count": 10,
   "metadata": {},
   "outputs": [
    {
     "data": {
      "text/html": [
       "<div>\n",
       "<style scoped>\n",
       "    .dataframe tbody tr th:only-of-type {\n",
       "        vertical-align: middle;\n",
       "    }\n",
       "\n",
       "    .dataframe tbody tr th {\n",
       "        vertical-align: top;\n",
       "    }\n",
       "\n",
       "    .dataframe thead th {\n",
       "        text-align: right;\n",
       "    }\n",
       "</style>\n",
       "<table border=\"1\" class=\"dataframe\">\n",
       "  <thead>\n",
       "    <tr style=\"text-align: right;\">\n",
       "      <th></th>\n",
       "      <th>Age</th>\n",
       "      <th>Quantity</th>\n",
       "      <th>Fee</th>\n",
       "      <th>VideoAmt</th>\n",
       "      <th>PhotoAmt</th>\n",
       "      <th>Type_1</th>\n",
       "      <th>Type_2</th>\n",
       "      <th>Breed1_0</th>\n",
       "      <th>Breed1_1</th>\n",
       "      <th>Breed1_3</th>\n",
       "      <th>...</th>\n",
       "      <th>State_41330</th>\n",
       "      <th>State_41332</th>\n",
       "      <th>State_41335</th>\n",
       "      <th>State_41336</th>\n",
       "      <th>State_41342</th>\n",
       "      <th>State_41345</th>\n",
       "      <th>State_41361</th>\n",
       "      <th>State_41367</th>\n",
       "      <th>State_41401</th>\n",
       "      <th>State_41415</th>\n",
       "    </tr>\n",
       "  </thead>\n",
       "  <tbody>\n",
       "    <tr>\n",
       "      <th>11539</th>\n",
       "      <td>2</td>\n",
       "      <td>1</td>\n",
       "      <td>0</td>\n",
       "      <td>0</td>\n",
       "      <td>1.0</td>\n",
       "      <td>1</td>\n",
       "      <td>0</td>\n",
       "      <td>0</td>\n",
       "      <td>0</td>\n",
       "      <td>0</td>\n",
       "      <td>...</td>\n",
       "      <td>0</td>\n",
       "      <td>0</td>\n",
       "      <td>0</td>\n",
       "      <td>0</td>\n",
       "      <td>0</td>\n",
       "      <td>0</td>\n",
       "      <td>0</td>\n",
       "      <td>0</td>\n",
       "      <td>0</td>\n",
       "      <td>0</td>\n",
       "    </tr>\n",
       "    <tr>\n",
       "      <th>6945</th>\n",
       "      <td>1</td>\n",
       "      <td>1</td>\n",
       "      <td>30</td>\n",
       "      <td>0</td>\n",
       "      <td>7.0</td>\n",
       "      <td>1</td>\n",
       "      <td>0</td>\n",
       "      <td>0</td>\n",
       "      <td>0</td>\n",
       "      <td>0</td>\n",
       "      <td>...</td>\n",
       "      <td>0</td>\n",
       "      <td>0</td>\n",
       "      <td>0</td>\n",
       "      <td>0</td>\n",
       "      <td>0</td>\n",
       "      <td>0</td>\n",
       "      <td>0</td>\n",
       "      <td>0</td>\n",
       "      <td>1</td>\n",
       "      <td>0</td>\n",
       "    </tr>\n",
       "    <tr>\n",
       "      <th>12403</th>\n",
       "      <td>1</td>\n",
       "      <td>1</td>\n",
       "      <td>0</td>\n",
       "      <td>0</td>\n",
       "      <td>2.0</td>\n",
       "      <td>1</td>\n",
       "      <td>0</td>\n",
       "      <td>0</td>\n",
       "      <td>0</td>\n",
       "      <td>0</td>\n",
       "      <td>...</td>\n",
       "      <td>0</td>\n",
       "      <td>0</td>\n",
       "      <td>0</td>\n",
       "      <td>0</td>\n",
       "      <td>0</td>\n",
       "      <td>0</td>\n",
       "      <td>0</td>\n",
       "      <td>0</td>\n",
       "      <td>0</td>\n",
       "      <td>0</td>\n",
       "    </tr>\n",
       "    <tr>\n",
       "      <th>3259</th>\n",
       "      <td>7</td>\n",
       "      <td>2</td>\n",
       "      <td>500</td>\n",
       "      <td>0</td>\n",
       "      <td>1.0</td>\n",
       "      <td>1</td>\n",
       "      <td>0</td>\n",
       "      <td>0</td>\n",
       "      <td>0</td>\n",
       "      <td>0</td>\n",
       "      <td>...</td>\n",
       "      <td>0</td>\n",
       "      <td>0</td>\n",
       "      <td>0</td>\n",
       "      <td>0</td>\n",
       "      <td>0</td>\n",
       "      <td>0</td>\n",
       "      <td>0</td>\n",
       "      <td>0</td>\n",
       "      <td>0</td>\n",
       "      <td>0</td>\n",
       "    </tr>\n",
       "    <tr>\n",
       "      <th>1125</th>\n",
       "      <td>10</td>\n",
       "      <td>1</td>\n",
       "      <td>110</td>\n",
       "      <td>0</td>\n",
       "      <td>2.0</td>\n",
       "      <td>1</td>\n",
       "      <td>0</td>\n",
       "      <td>0</td>\n",
       "      <td>0</td>\n",
       "      <td>0</td>\n",
       "      <td>...</td>\n",
       "      <td>0</td>\n",
       "      <td>0</td>\n",
       "      <td>0</td>\n",
       "      <td>0</td>\n",
       "      <td>0</td>\n",
       "      <td>0</td>\n",
       "      <td>0</td>\n",
       "      <td>0</td>\n",
       "      <td>0</td>\n",
       "      <td>0</td>\n",
       "    </tr>\n",
       "  </tbody>\n",
       "</table>\n",
       "<p>5 rows × 374 columns</p>\n",
       "</div>"
      ],
      "text/plain": [
       "       Age  Quantity  Fee  VideoAmt  PhotoAmt  Type_1  Type_2  Breed1_0  \\\n",
       "11539    2         1    0         0       1.0       1       0         0   \n",
       "6945     1         1   30         0       7.0       1       0         0   \n",
       "12403    1         1    0         0       2.0       1       0         0   \n",
       "3259     7         2  500         0       1.0       1       0         0   \n",
       "1125    10         1  110         0       2.0       1       0         0   \n",
       "\n",
       "       Breed1_1  Breed1_3  ...  State_41330  State_41332  State_41335  \\\n",
       "11539         0         0  ...            0            0            0   \n",
       "6945          0         0  ...            0            0            0   \n",
       "12403         0         0  ...            0            0            0   \n",
       "3259          0         0  ...            0            0            0   \n",
       "1125          0         0  ...            0            0            0   \n",
       "\n",
       "       State_41336  State_41342  State_41345  State_41361  State_41367  \\\n",
       "11539            0            0            0            0            0   \n",
       "6945             0            0            0            0            0   \n",
       "12403            0            0            0            0            0   \n",
       "3259             0            0            0            0            0   \n",
       "1125             0            0            0            0            0   \n",
       "\n",
       "       State_41401  State_41415  \n",
       "11539            0            0  \n",
       "6945             1            0  \n",
       "12403            0            0  \n",
       "3259             0            0  \n",
       "1125             0            0  \n",
       "\n",
       "[5 rows x 374 columns]"
      ]
     },
     "execution_count": 10,
     "metadata": {},
     "output_type": "execute_result"
    }
   ],
   "source": [
    "X_train_dummies.head()"
   ]
  },
  {
   "cell_type": "code",
   "execution_count": 65,
   "metadata": {},
   "outputs": [],
   "source": [
    "# importances = forest.feature_importances_\n",
    "\n",
    "# Code taken from https://scikit-learn.org/stable/auto_examples/ensemble/plot_forest_importances.html#sphx-glr-auto-examples-ensemble-plot-forest-importances-py\n",
    "def plot_feature_importances(forest, importances, features):\n",
    "    std = np.std([tree.feature_importances_ for tree in forest.estimators_],\n",
    "                 axis=0)\n",
    "    indices = np.argsort(importances)[::-1]\n",
    "    print(\"Feature list:\", list(features))\n",
    "    print()\n",
    "\n",
    "    # Print the feature ranking\n",
    "    print(\"Feature ranking:\")\n",
    "    \n",
    "    n_features = len(features)\n",
    "    for i in range(n_features): # range(X.shape[1]):\n",
    "        print(\"%d. feature %s (%f)\" % (i + 1, features[indices[i]], importances[indices[i]]))\n",
    "\n",
    "    # Plot the feature importances of the forest\n",
    "    plt.figure()\n",
    "    plt.title(\"Feature importances\")\n",
    "    plt.bar(range(n_features), importances[indices],\n",
    "           color=\"r\", yerr=std[indices], align=\"center\")\n",
    "    plt.xticks(range(n_features), indices)\n",
    "    plt.xlim([-1, n_features])\n",
    "    plt.show()"
   ]
  },
  {
   "cell_type": "markdown",
   "metadata": {},
   "source": [
    "## 1. Random Forest\n",
    "\n",
    "First, try changing n_estimators to find the best one according to test score."
   ]
  },
  {
   "cell_type": "code",
   "execution_count": 7,
   "metadata": {
    "scrolled": true
   },
   "outputs": [
    {
     "name": "stdout",
     "output_type": "stream",
     "text": [
      "5\n",
      "cohen kappa = 0.24215763791456768\n",
      "train score = 0.9202477370176274\n",
      "test score = 0.3425967096487328\n",
      "10\n",
      "cohen kappa = 0.2820327020645549\n",
      "train score = 0.9740828966174369\n",
      "test score = 0.36460649177412185\n",
      "15\n",
      "cohen kappa = 0.2821226087660422\n",
      "train score = 0.9819914244878514\n",
      "test score = 0.3721654068474878\n",
      "20\n",
      "cohen kappa = 0.3107020300302489\n",
      "train score = 0.9843735111958075\n",
      "test score = 0.38861716318363715\n",
      "25\n",
      "cohen kappa = 0.30638513401266465\n",
      "train score = 0.984945212005717\n",
      "test score = 0.3850600266785238\n",
      "30\n",
      "cohen kappa = 0.30239795511426737\n",
      "train score = 0.9858980466888995\n",
      "test score = 0.3828368163628279\n",
      "35\n",
      "cohen kappa = 0.30344759689124245\n",
      "train score = 0.986088613625536\n",
      "test score = 0.3830591373943975\n",
      "40\n",
      "cohen kappa = 0.31392828235136927\n",
      "train score = 0.986088613625536\n",
      "test score = 0.3897287683414851\n",
      "45\n",
      "cohen kappa = 0.2943494838795222\n",
      "train score = 0.986088613625536\n",
      "test score = 0.3808359270787016\n",
      "50\n",
      "cohen kappa = 0.31605036816702214\n",
      "train score = 0.9861838970938542\n",
      "test score = 0.3852823477100934\n",
      "55\n",
      "cohen kappa = 0.3095135781178233\n",
      "train score = 0.9861838970938542\n",
      "test score = 0.38128056914184083\n",
      "60\n",
      "cohen kappa = 0.3167788058632445\n",
      "train score = 0.9861838970938542\n",
      "test score = 0.3832814584259671\n",
      "65\n",
      "cohen kappa = 0.3044576819987337\n",
      "train score = 0.9861838970938542\n",
      "test score = 0.38750555802578923\n",
      "70\n",
      "cohen kappa = 0.32834549452472495\n",
      "train score = 0.9861838970938542\n",
      "test score = 0.39928857269897733\n",
      "75\n",
      "cohen kappa = 0.32819837533425733\n",
      "train score = 0.9861838970938542\n",
      "test score = 0.38461538461538464\n",
      "80\n",
      "cohen kappa = 0.31556736797257\n",
      "train score = 0.9861838970938542\n",
      "test score = 0.3892841262783459\n",
      "85\n",
      "cohen kappa = 0.32139963333131627\n",
      "train score = 0.9861838970938542\n",
      "test score = 0.39550911516229437\n",
      "90\n",
      "cohen kappa = 0.31539168942688467\n",
      "train score = 0.9861838970938542\n",
      "test score = 0.38683859493108047\n",
      "95\n",
      "cohen kappa = 0.32555741953494133\n",
      "train score = 0.9861838970938542\n",
      "test score = 0.3957314361938639\n",
      "100\n",
      "cohen kappa = 0.32205854184071636\n",
      "train score = 0.9861838970938542\n",
      "test score = 0.39061805246776343\n"
     ]
    }
   ],
   "source": [
    "best_test_score = -1\n",
    "best_n = None\n",
    "\n",
    "for n in range(5, 101, 5):\n",
    "    rf = RandomForestClassifier(n_estimators=n).fit(X_train, y_train)\n",
    "    pred_test = rf.predict(X_test)\n",
    "    pred_train = rf.predict(X_train)\n",
    "    cohen_kappa = cohen_kappa_score(y_test, pred_test, weights=\"quadratic\")\n",
    "    train_score = accuracy_score(y_train, pred_train)\n",
    "    test_score = accuracy_score(y_test, pred_test)\n",
    "    print(n)\n",
    "    print(\"cohen kappa =\", cohen_kappa)\n",
    "    print(\"train score =\", train_score)\n",
    "    print(\"test score =\", test_score)\n",
    "    \n",
    "    if best_test_score < test_score:\n",
    "        best_test_score = test_score\n",
    "        best_n = n"
   ]
  },
  {
   "cell_type": "code",
   "execution_count": 8,
   "metadata": {},
   "outputs": [
    {
     "name": "stdout",
     "output_type": "stream",
     "text": [
      "70\n",
      "0.3993\n"
     ]
    }
   ],
   "source": [
    "print(best_n)\n",
    "print(round(best_test_score, 4))"
   ]
  },
  {
   "cell_type": "markdown",
   "metadata": {},
   "source": [
    "Next, try different n_estimators and max_depth values."
   ]
  },
  {
   "cell_type": "code",
   "execution_count": 9,
   "metadata": {
    "scrolled": true
   },
   "outputs": [
    {
     "name": "stdout",
     "output_type": "stream",
     "text": [
      "n_estimators=5, max_depth=5\n",
      "cohen kappa 0.2549\n",
      "cross-val acc 0.37 (+/- 0.02)\n",
      "test acc 0.3746\n",
      "n_estimators=5, max_depth=10\n",
      "cohen kappa 0.2986\n",
      "cross-val acc 0.37 (+/- 0.02)\n",
      "test acc 0.3853\n",
      "n_estimators=5, max_depth=15\n",
      "cohen kappa 0.2422\n",
      "cross-val acc 0.36 (+/- 0.02)\n",
      "test acc 0.3559\n",
      "n_estimators=5, max_depth=20\n",
      "cohen kappa 0.2652\n",
      "cross-val acc 0.35 (+/- 0.02)\n",
      "test acc 0.3544\n",
      "n_estimators=5, max_depth=25\n",
      "cohen kappa 0.223\n",
      "cross-val acc 0.35 (+/- 0.01)\n",
      "test acc 0.3422\n",
      "n_estimators=5, max_depth=30\n",
      "cohen kappa 0.246\n",
      "cross-val acc 0.34 (+/- 0.03)\n",
      "test acc 0.3379\n",
      "n_estimators=10, max_depth=5\n",
      "cohen kappa 0.2154\n",
      "cross-val acc 0.38 (+/- 0.02)\n",
      "test acc 0.3682\n",
      "n_estimators=10, max_depth=10\n",
      "cohen kappa 0.3155\n",
      "cross-val acc 0.39 (+/- 0.02)\n",
      "test acc 0.3897\n",
      "n_estimators=10, max_depth=15\n",
      "cohen kappa 0.29\n",
      "cross-val acc 0.38 (+/- 0.01)\n",
      "test acc 0.3757\n",
      "n_estimators=10, max_depth=20\n",
      "cohen kappa 0.3016\n",
      "cross-val acc 0.37 (+/- 0.02)\n",
      "test acc 0.3768\n",
      "n_estimators=10, max_depth=25\n",
      "cohen kappa 0.2866\n",
      "cross-val acc 0.36 (+/- 0.01)\n",
      "test acc 0.3688\n",
      "n_estimators=10, max_depth=30\n",
      "cohen kappa 0.274\n",
      "cross-val acc 0.37 (+/- 0.02)\n",
      "test acc 0.3633\n",
      "n_estimators=15, max_depth=5\n",
      "cohen kappa 0.2445\n",
      "cross-val acc 0.38 (+/- 0.02)\n",
      "test acc 0.3695\n",
      "n_estimators=15, max_depth=10\n",
      "cohen kappa 0.2868\n",
      "cross-val acc 0.39 (+/- 0.03)\n",
      "test acc 0.3828\n",
      "n_estimators=15, max_depth=15\n",
      "cohen kappa 0.3067\n",
      "cross-val acc 0.39 (+/- 0.03)\n",
      "test acc 0.388\n",
      "n_estimators=15, max_depth=20\n",
      "cohen kappa 0.3094\n",
      "cross-val acc 0.38 (+/- 0.01)\n",
      "test acc 0.3819\n",
      "n_estimators=15, max_depth=25\n",
      "cohen kappa 0.2984\n",
      "cross-val acc 0.37 (+/- 0.02)\n",
      "test acc 0.3817\n",
      "n_estimators=15, max_depth=30\n",
      "cohen kappa 0.2977\n",
      "cross-val acc 0.38 (+/- 0.02)\n",
      "test acc 0.3766\n",
      "n_estimators=20, max_depth=5\n",
      "cohen kappa 0.2371\n",
      "cross-val acc 0.38 (+/- 0.02)\n",
      "test acc 0.3782\n",
      "n_estimators=20, max_depth=10\n",
      "cohen kappa 0.3014\n",
      "cross-val acc 0.39 (+/- 0.02)\n",
      "test acc 0.3868\n",
      "n_estimators=20, max_depth=15\n",
      "cohen kappa 0.3204\n",
      "cross-val acc 0.40 (+/- 0.02)\n",
      "test acc 0.3891\n",
      "n_estimators=20, max_depth=20\n",
      "cohen kappa 0.296\n",
      "cross-val acc 0.39 (+/- 0.02)\n",
      "test acc 0.3862\n",
      "n_estimators=20, max_depth=25\n",
      "cohen kappa 0.2828\n",
      "cross-val acc 0.38 (+/- 0.03)\n",
      "test acc 0.3759\n",
      "n_estimators=20, max_depth=30\n",
      "cohen kappa 0.3126\n",
      "cross-val acc 0.38 (+/- 0.02)\n",
      "test acc 0.3806\n",
      "n_estimators=25, max_depth=5\n",
      "cohen kappa 0.2817\n",
      "cross-val acc 0.38 (+/- 0.03)\n",
      "test acc 0.3793\n",
      "n_estimators=25, max_depth=10\n",
      "cohen kappa 0.326\n",
      "cross-val acc 0.40 (+/- 0.03)\n",
      "test acc 0.3968\n",
      "n_estimators=25, max_depth=15\n",
      "cohen kappa 0.315\n",
      "cross-val acc 0.39 (+/- 0.03)\n",
      "test acc 0.3904\n",
      "n_estimators=25, max_depth=20\n",
      "cohen kappa 0.3093\n",
      "cross-val acc 0.39 (+/- 0.02)\n",
      "test acc 0.3908\n",
      "n_estimators=25, max_depth=25\n",
      "cohen kappa 0.3086\n",
      "cross-val acc 0.38 (+/- 0.03)\n",
      "test acc 0.3799\n",
      "n_estimators=25, max_depth=30\n",
      "cohen kappa 0.2964\n",
      "cross-val acc 0.39 (+/- 0.03)\n",
      "test acc 0.3802\n",
      "n_estimators=30, max_depth=5\n",
      "cohen kappa 0.2457\n",
      "cross-val acc 0.38 (+/- 0.02)\n",
      "test acc 0.3746\n",
      "n_estimators=30, max_depth=10\n",
      "cohen kappa 0.3206\n",
      "cross-val acc 0.40 (+/- 0.03)\n",
      "test acc 0.4008\n",
      "n_estimators=30, max_depth=15\n",
      "cohen kappa 0.3281\n",
      "cross-val acc 0.40 (+/- 0.02)\n",
      "test acc 0.4002\n",
      "n_estimators=30, max_depth=20\n",
      "cohen kappa 0.3081\n",
      "cross-val acc 0.40 (+/- 0.02)\n",
      "test acc 0.3888\n",
      "n_estimators=30, max_depth=25\n",
      "cohen kappa 0.3029\n",
      "cross-val acc 0.39 (+/- 0.03)\n",
      "test acc 0.3828\n",
      "n_estimators=30, max_depth=30\n",
      "cohen kappa 0.3193\n",
      "cross-val acc 0.39 (+/- 0.02)\n",
      "test acc 0.3859\n",
      "n_estimators=35, max_depth=5\n",
      "cohen kappa 0.2635\n",
      "cross-val acc 0.38 (+/- 0.02)\n",
      "test acc 0.3766\n",
      "n_estimators=35, max_depth=10\n",
      "cohen kappa 0.3197\n",
      "cross-val acc 0.40 (+/- 0.02)\n",
      "test acc 0.3917\n",
      "n_estimators=35, max_depth=15\n",
      "cohen kappa 0.3318\n",
      "cross-val acc 0.40 (+/- 0.01)\n",
      "test acc 0.4002\n",
      "n_estimators=35, max_depth=20\n",
      "cohen kappa 0.313\n",
      "cross-val acc 0.39 (+/- 0.02)\n",
      "test acc 0.3902\n",
      "n_estimators=35, max_depth=25\n",
      "cohen kappa 0.317\n",
      "cross-val acc 0.39 (+/- 0.02)\n",
      "test acc 0.3871\n",
      "n_estimators=35, max_depth=30\n",
      "cohen kappa 0.3207\n",
      "cross-val acc 0.39 (+/- 0.03)\n",
      "test acc 0.3884\n",
      "n_estimators=40, max_depth=5\n",
      "cohen kappa 0.2547\n",
      "cross-val acc 0.38 (+/- 0.02)\n",
      "test acc 0.3759\n",
      "n_estimators=40, max_depth=10\n",
      "cohen kappa 0.3237\n",
      "cross-val acc 0.40 (+/- 0.02)\n",
      "test acc 0.394\n",
      "n_estimators=40, max_depth=15\n",
      "cohen kappa 0.3262\n",
      "cross-val acc 0.40 (+/- 0.03)\n",
      "test acc 0.3971\n",
      "n_estimators=40, max_depth=20\n",
      "cohen kappa 0.3305\n",
      "cross-val acc 0.40 (+/- 0.03)\n",
      "test acc 0.4006\n",
      "n_estimators=40, max_depth=25\n",
      "cohen kappa 0.3066\n",
      "cross-val acc 0.39 (+/- 0.02)\n",
      "test acc 0.3891\n",
      "n_estimators=40, max_depth=30\n",
      "cohen kappa 0.3029\n",
      "cross-val acc 0.39 (+/- 0.02)\n",
      "test acc 0.3788\n",
      "n_estimators=45, max_depth=5\n",
      "cohen kappa 0.2393\n",
      "cross-val acc 0.38 (+/- 0.02)\n",
      "test acc 0.3726\n",
      "n_estimators=45, max_depth=10\n",
      "cohen kappa 0.3273\n",
      "cross-val acc 0.40 (+/- 0.02)\n",
      "test acc 0.4\n",
      "n_estimators=45, max_depth=15\n",
      "cohen kappa 0.3332\n",
      "cross-val acc 0.40 (+/- 0.02)\n",
      "test acc 0.3955\n",
      "n_estimators=45, max_depth=20\n",
      "cohen kappa 0.3256\n",
      "cross-val acc 0.40 (+/- 0.02)\n",
      "test acc 0.3904\n",
      "n_estimators=45, max_depth=25\n",
      "cohen kappa 0.3112\n",
      "cross-val acc 0.39 (+/- 0.02)\n",
      "test acc 0.3868\n",
      "n_estimators=45, max_depth=30\n",
      "cohen kappa 0.3033\n",
      "cross-val acc 0.40 (+/- 0.02)\n",
      "test acc 0.3844\n",
      "n_estimators=50, max_depth=5\n",
      "cohen kappa 0.2672\n",
      "cross-val acc 0.38 (+/- 0.02)\n",
      "test acc 0.3802\n",
      "n_estimators=50, max_depth=10\n",
      "cohen kappa 0.3254\n",
      "cross-val acc 0.40 (+/- 0.02)\n",
      "test acc 0.394\n",
      "n_estimators=50, max_depth=15\n",
      "cohen kappa 0.3345\n",
      "cross-val acc 0.41 (+/- 0.02)\n",
      "test acc 0.3944\n",
      "n_estimators=50, max_depth=20\n",
      "cohen kappa 0.3178\n",
      "cross-val acc 0.40 (+/- 0.01)\n",
      "test acc 0.3913\n",
      "n_estimators=50, max_depth=25\n",
      "cohen kappa 0.3104\n",
      "cross-val acc 0.40 (+/- 0.01)\n",
      "test acc 0.3908\n",
      "n_estimators=50, max_depth=30\n",
      "cohen kappa 0.3102\n",
      "cross-val acc 0.39 (+/- 0.03)\n",
      "test acc 0.3824\n",
      "n_estimators=55, max_depth=5\n",
      "cohen kappa 0.2433\n",
      "cross-val acc 0.38 (+/- 0.02)\n",
      "test acc 0.3746\n",
      "n_estimators=55, max_depth=10\n",
      "cohen kappa 0.32\n",
      "cross-val acc 0.40 (+/- 0.02)\n",
      "test acc 0.396\n",
      "n_estimators=55, max_depth=15\n",
      "cohen kappa 0.3315\n",
      "cross-val acc 0.41 (+/- 0.02)\n",
      "test acc 0.4006\n",
      "n_estimators=55, max_depth=20\n",
      "cohen kappa 0.3147\n",
      "cross-val acc 0.40 (+/- 0.03)\n",
      "test acc 0.3928\n",
      "n_estimators=55, max_depth=25\n",
      "cohen kappa 0.3148\n",
      "cross-val acc 0.40 (+/- 0.02)\n",
      "test acc 0.3915\n",
      "n_estimators=55, max_depth=30\n",
      "cohen kappa 0.3201\n",
      "cross-val acc 0.39 (+/- 0.01)\n",
      "test acc 0.3855\n",
      "n_estimators=60, max_depth=5\n",
      "cohen kappa 0.2499\n",
      "cross-val acc 0.38 (+/- 0.02)\n",
      "test acc 0.3813\n",
      "n_estimators=60, max_depth=10\n",
      "cohen kappa 0.3185\n",
      "cross-val acc 0.40 (+/- 0.03)\n",
      "test acc 0.392\n",
      "n_estimators=60, max_depth=15\n",
      "cohen kappa 0.3328\n",
      "cross-val acc 0.41 (+/- 0.02)\n",
      "test acc 0.4008\n",
      "n_estimators=60, max_depth=20\n",
      "cohen kappa 0.3372\n",
      "cross-val acc 0.40 (+/- 0.02)\n",
      "test acc 0.3968\n",
      "n_estimators=60, max_depth=25\n",
      "cohen kappa 0.3168\n",
      "cross-val acc 0.40 (+/- 0.02)\n",
      "test acc 0.3866\n",
      "n_estimators=60, max_depth=30\n",
      "cohen kappa 0.3236\n",
      "cross-val acc 0.40 (+/- 0.02)\n",
      "test acc 0.3966\n",
      "n_estimators=65, max_depth=5\n",
      "cohen kappa 0.2538\n",
      "cross-val acc 0.38 (+/- 0.02)\n",
      "test acc 0.3771\n",
      "n_estimators=65, max_depth=10\n",
      "cohen kappa 0.3228\n",
      "cross-val acc 0.40 (+/- 0.03)\n",
      "test acc 0.398\n",
      "n_estimators=65, max_depth=15\n",
      "cohen kappa 0.346\n",
      "cross-val acc 0.40 (+/- 0.02)\n",
      "test acc 0.4055\n",
      "n_estimators=65, max_depth=20\n",
      "cohen kappa 0.3402\n",
      "cross-val acc 0.40 (+/- 0.02)\n",
      "test acc 0.3986\n",
      "n_estimators=65, max_depth=25\n",
      "cohen kappa 0.3161\n",
      "cross-val acc 0.40 (+/- 0.02)\n",
      "test acc 0.3955\n",
      "n_estimators=65, max_depth=30\n",
      "cohen kappa 0.3159\n",
      "cross-val acc 0.40 (+/- 0.02)\n",
      "test acc 0.3908\n",
      "n_estimators=70, max_depth=5\n",
      "cohen kappa 0.2478\n",
      "cross-val acc 0.38 (+/- 0.01)\n",
      "test acc 0.3739\n",
      "n_estimators=70, max_depth=10\n",
      "cohen kappa 0.3284\n",
      "cross-val acc 0.40 (+/- 0.02)\n",
      "test acc 0.4008\n",
      "n_estimators=70, max_depth=15\n",
      "cohen kappa 0.3404\n",
      "cross-val acc 0.41 (+/- 0.02)\n",
      "test acc 0.3995\n",
      "n_estimators=70, max_depth=20\n",
      "cohen kappa 0.3289\n",
      "cross-val acc 0.40 (+/- 0.02)\n",
      "test acc 0.3975\n",
      "n_estimators=70, max_depth=25\n",
      "cohen kappa 0.3211\n",
      "cross-val acc 0.40 (+/- 0.01)\n",
      "test acc 0.3975\n",
      "n_estimators=70, max_depth=30\n",
      "cohen kappa 0.3381\n",
      "cross-val acc 0.40 (+/- 0.02)\n",
      "test acc 0.3937\n",
      "n_estimators=75, max_depth=5\n",
      "cohen kappa 0.243\n",
      "cross-val acc 0.39 (+/- 0.02)\n",
      "test acc 0.3777\n",
      "n_estimators=75, max_depth=10\n",
      "cohen kappa 0.3267\n",
      "cross-val acc 0.40 (+/- 0.02)\n",
      "test acc 0.3966\n",
      "n_estimators=75, max_depth=15\n",
      "cohen kappa 0.3307\n",
      "cross-val acc 0.41 (+/- 0.03)\n",
      "test acc 0.4022\n",
      "n_estimators=75, max_depth=20\n",
      "cohen kappa 0.337\n",
      "cross-val acc 0.40 (+/- 0.02)\n",
      "test acc 0.398\n",
      "n_estimators=75, max_depth=25\n",
      "cohen kappa 0.3327\n",
      "cross-val acc 0.40 (+/- 0.03)\n",
      "test acc 0.396\n",
      "n_estimators=75, max_depth=30\n",
      "cohen kappa 0.327\n",
      "cross-val acc 0.39 (+/- 0.02)\n",
      "test acc 0.3891\n",
      "n_estimators=80, max_depth=5\n",
      "cohen kappa 0.2405\n",
      "cross-val acc 0.38 (+/- 0.02)\n",
      "test acc 0.3782\n",
      "n_estimators=80, max_depth=10\n",
      "cohen kappa 0.3371\n",
      "cross-val acc 0.40 (+/- 0.02)\n",
      "test acc 0.3982\n",
      "n_estimators=80, max_depth=15\n",
      "cohen kappa 0.3336\n",
      "cross-val acc 0.41 (+/- 0.02)\n",
      "test acc 0.4002\n",
      "n_estimators=80, max_depth=20\n",
      "cohen kappa 0.344\n",
      "cross-val acc 0.41 (+/- 0.02)\n",
      "test acc 0.4017\n",
      "n_estimators=80, max_depth=25\n",
      "cohen kappa 0.3241\n",
      "cross-val acc 0.40 (+/- 0.02)\n",
      "test acc 0.3882\n",
      "n_estimators=80, max_depth=30\n",
      "cohen kappa 0.3193\n",
      "cross-val acc 0.40 (+/- 0.02)\n",
      "test acc 0.3951\n",
      "n_estimators=85, max_depth=5\n",
      "cohen kappa 0.2513\n",
      "cross-val acc 0.38 (+/- 0.02)\n",
      "test acc 0.3768\n",
      "n_estimators=85, max_depth=10\n",
      "cohen kappa 0.3313\n",
      "cross-val acc 0.40 (+/- 0.02)\n",
      "test acc 0.3995\n",
      "n_estimators=85, max_depth=15\n",
      "cohen kappa 0.3363\n",
      "cross-val acc 0.41 (+/- 0.02)\n",
      "test acc 0.4004\n",
      "n_estimators=85, max_depth=20\n",
      "cohen kappa 0.3218\n",
      "cross-val acc 0.40 (+/- 0.03)\n",
      "test acc 0.3951\n",
      "n_estimators=85, max_depth=25\n",
      "cohen kappa 0.3171\n",
      "cross-val acc 0.39 (+/- 0.03)\n",
      "test acc 0.3928\n",
      "n_estimators=85, max_depth=30\n",
      "cohen kappa 0.317\n",
      "cross-val acc 0.40 (+/- 0.02)\n",
      "test acc 0.3931\n",
      "n_estimators=90, max_depth=5\n",
      "cohen kappa 0.2698\n",
      "cross-val acc 0.38 (+/- 0.02)\n",
      "test acc 0.3815\n",
      "n_estimators=90, max_depth=10\n",
      "cohen kappa 0.3227\n",
      "cross-val acc 0.41 (+/- 0.03)\n",
      "test acc 0.3962\n",
      "n_estimators=90, max_depth=15\n",
      "cohen kappa 0.3393\n",
      "cross-val acc 0.41 (+/- 0.02)\n",
      "test acc 0.4024\n",
      "n_estimators=90, max_depth=20\n",
      "cohen kappa 0.3158\n",
      "cross-val acc 0.40 (+/- 0.03)\n",
      "test acc 0.3926\n",
      "n_estimators=90, max_depth=25\n",
      "cohen kappa 0.3227\n",
      "cross-val acc 0.40 (+/- 0.02)\n",
      "test acc 0.3895\n",
      "n_estimators=90, max_depth=30\n",
      "cohen kappa 0.3345\n",
      "cross-val acc 0.41 (+/- 0.02)\n",
      "test acc 0.3997\n",
      "n_estimators=95, max_depth=5\n",
      "cohen kappa 0.2468\n",
      "cross-val acc 0.38 (+/- 0.02)\n",
      "test acc 0.3768\n",
      "n_estimators=95, max_depth=10\n",
      "cohen kappa 0.315\n",
      "cross-val acc 0.40 (+/- 0.02)\n",
      "test acc 0.3944\n",
      "n_estimators=95, max_depth=15\n",
      "cohen kappa 0.3439\n",
      "cross-val acc 0.41 (+/- 0.03)\n",
      "test acc 0.4037\n",
      "n_estimators=95, max_depth=20\n",
      "cohen kappa 0.331\n",
      "cross-val acc 0.40 (+/- 0.02)\n",
      "test acc 0.394\n",
      "n_estimators=95, max_depth=25\n",
      "cohen kappa 0.3225\n",
      "cross-val acc 0.40 (+/- 0.02)\n",
      "test acc 0.3957\n",
      "n_estimators=95, max_depth=30\n",
      "cohen kappa 0.3286\n",
      "cross-val acc 0.40 (+/- 0.03)\n",
      "test acc 0.3904\n",
      "n_estimators=100, max_depth=5\n",
      "cohen kappa 0.2416\n",
      "cross-val acc 0.38 (+/- 0.02)\n",
      "test acc 0.3726\n",
      "n_estimators=100, max_depth=10\n",
      "cohen kappa 0.3174\n",
      "cross-val acc 0.40 (+/- 0.03)\n",
      "test acc 0.3966\n",
      "n_estimators=100, max_depth=15\n",
      "cohen kappa 0.3373\n",
      "cross-val acc 0.41 (+/- 0.02)\n",
      "test acc 0.4048\n",
      "n_estimators=100, max_depth=20\n",
      "cohen kappa 0.333\n",
      "cross-val acc 0.40 (+/- 0.02)\n",
      "test acc 0.398\n",
      "n_estimators=100, max_depth=25\n",
      "cohen kappa 0.3335\n",
      "cross-val acc 0.40 (+/- 0.03)\n",
      "test acc 0.3946\n",
      "n_estimators=100, max_depth=30\n",
      "cohen kappa 0.32\n",
      "cross-val acc 0.40 (+/- 0.03)\n",
      "test acc 0.3922\n"
     ]
    }
   ],
   "source": [
    "best_test_score = -1\n",
    "best_test_params = None\n",
    "best_ckappa = -1\n",
    "best_ckappa_params = None\n",
    "best_cv_score = -1\n",
    "best_cv_params = None\n",
    "\n",
    "for n in range(5, 101, 5):\n",
    "    for d in range(5, 31, 5):\n",
    "        rf = RandomForestClassifier(n_estimators=n, max_depth=d)\n",
    "        # Run cross-validation, get scores\n",
    "        cv_scores = cross_val_score(rf, X_train, y_train, cv=5)\n",
    "        # Get test scores\n",
    "        rf.fit(X_train, y_train)\n",
    "        pred_test = rf.predict(X_test)\n",
    "        test_score = accuracy_score(y_test, pred_test)\n",
    "        # Get the cohen kappa score\n",
    "        cohen_kappa = cohen_kappa_score(y_test, pred_test, weights=\"quadratic\")\n",
    "        \n",
    "        print(\"n_estimators=%d, max_depth=%d\" % (n, d))\n",
    "        print(\"cohen kappa\", round(cohen_kappa, 4))\n",
    "        print(\"cross-val acc %0.2f (+/- %0.2f)\" % (cv_scores.mean(), cv_scores.std() * 2))\n",
    "        print(\"test acc\", round(test_score, 4))\n",
    "\n",
    "        # Update best scores and parameters\n",
    "        if best_test_score < test_score:\n",
    "            best_test_score = test_score\n",
    "            best_test_params = (n, d)\n",
    "        \n",
    "        if best_ckappa < cohen_kappa:\n",
    "            best_ckappa = cohen_kappa\n",
    "            best_ckappa_params = (n, d)\n",
    "        \n",
    "        if best_cv_score < cv_scores.mean():\n",
    "            best_cv_score = cv_scores.mean()\n",
    "            best_cv_params = (n, d)"
   ]
  },
  {
   "cell_type": "code",
   "execution_count": 11,
   "metadata": {},
   "outputs": [
    {
     "name": "stdout",
     "output_type": "stream",
     "text": [
      "(65, 15)\n",
      "0.4055\n",
      "(65, 15)\n",
      "0.346\n",
      "(70, 15)\n",
      "0.4131\n"
     ]
    }
   ],
   "source": [
    "print(best_test_params)\n",
    "print(round(best_test_score, 4))\n",
    "print(best_ckappa_params)\n",
    "print(round(best_ckappa, 4))\n",
    "print(best_cv_params)\n",
    "print(round(best_cv_score, 4))"
   ]
  },
  {
   "cell_type": "markdown",
   "metadata": {},
   "source": [
    "Use the best test score parameters and normalized data."
   ]
  },
  {
   "cell_type": "code",
   "execution_count": 70,
   "metadata": {},
   "outputs": [
    {
     "name": "stdout",
     "output_type": "stream",
     "text": [
      "0.41267219469956357\n",
      "0.3839484215206759\n",
      "0.2771982337792719\n"
     ]
    }
   ],
   "source": [
    "rf = RandomForestClassifier(n_estimators=65, max_depth=15)\n",
    "print(cross_val_score(rf, X_train_norm, y_train, cv=5).mean())\n",
    "rf.fit(X_train_norm, y_train)\n",
    "pred_test = rf.predict(X_test_norm)\n",
    "print(accuracy_score(y_test, test_pred))\n",
    "print(cohen_kappa_score(y_test, pred_test, weights=\"quadratic\"))"
   ]
  },
  {
   "cell_type": "markdown",
   "metadata": {},
   "source": [
    "Use the best test score parameters and one-hot-encoded data."
   ]
  },
  {
   "cell_type": "code",
   "execution_count": 71,
   "metadata": {},
   "outputs": [
    {
     "name": "stdout",
     "output_type": "stream",
     "text": [
      "0.40219192017036925\n",
      "0.3901734104046243\n",
      "0.30113085076834245\n"
     ]
    }
   ],
   "source": [
    "rf = RandomForestClassifier(n_estimators=65, max_depth=15)\n",
    "print(cross_val_score(rf, X_train_dummies, y_train, cv=5).mean())\n",
    "rf.fit(X_train_dummies, y_train)\n",
    "pred_test = rf.predict(X_test_dummies)\n",
    "print(accuracy_score(y_test, pred_test))\n",
    "print(cohen_kappa_score(y_test, pred_test, weights=\"quadratic\"))"
   ]
  },
  {
   "cell_type": "markdown",
   "metadata": {},
   "source": [
    "Use sklearn.svm.LinearSVC with sklearn.feature_selection.SelectFromModel to evaluate feature importances and select the most relevant features. Then train an sklearn.ensemble.RandomForestClassifier using only relevant features. "
   ]
  },
  {
   "cell_type": "code",
   "execution_count": 72,
   "metadata": {
    "scrolled": true
   },
   "outputs": [
    {
     "name": "stderr",
     "output_type": "stream",
     "text": [
      "C:\\Users\\MariLiis\\Anaconda3\\lib\\site-packages\\sklearn\\svm\\base.py:931: ConvergenceWarning: Liblinear failed to converge, increase the number of iterations.\n",
      "  \"the number of iterations.\", ConvergenceWarning)\n",
      "C:\\Users\\MariLiis\\Anaconda3\\lib\\site-packages\\sklearn\\svm\\base.py:931: ConvergenceWarning: Liblinear failed to converge, increase the number of iterations.\n",
      "  \"the number of iterations.\", ConvergenceWarning)\n",
      "C:\\Users\\MariLiis\\Anaconda3\\lib\\site-packages\\sklearn\\svm\\base.py:931: ConvergenceWarning: Liblinear failed to converge, increase the number of iterations.\n",
      "  \"the number of iterations.\", ConvergenceWarning)\n",
      "C:\\Users\\MariLiis\\Anaconda3\\lib\\site-packages\\sklearn\\svm\\base.py:931: ConvergenceWarning: Liblinear failed to converge, increase the number of iterations.\n",
      "  \"the number of iterations.\", ConvergenceWarning)\n"
     ]
    },
    {
     "name": "stdout",
     "output_type": "stream",
     "text": [
      "0.40390711364903353\n"
     ]
    },
    {
     "name": "stderr",
     "output_type": "stream",
     "text": [
      "C:\\Users\\MariLiis\\Anaconda3\\lib\\site-packages\\sklearn\\svm\\base.py:931: ConvergenceWarning: Liblinear failed to converge, increase the number of iterations.\n",
      "  \"the number of iterations.\", ConvergenceWarning)\n"
     ]
    },
    {
     "name": "stdout",
     "output_type": "stream",
     "text": [
      "0.3897287683414851\n",
      "0.29165630402327136\n"
     ]
    }
   ],
   "source": [
    "clf = Pipeline([\n",
    "  ('feature_selection', SelectFromModel(LinearSVC(penalty=\"l1\", dual=False, max_iter=2500))),\n",
    "  ('classification', RandomForestClassifier(n_estimators=65, max_depth=15))\n",
    "])\n",
    "print(cross_val_score(clf, X_train_norm, y_train, cv=5).mean())\n",
    "clf.fit(X_train_norm, y_train)\n",
    "pred_test = clf.predict(X_test_norm)\n",
    "print(accuracy_score(y_test, pred_test))\n",
    "print(cohen_kappa_score(y_test, pred_test, weights=\"quadratic\"))"
   ]
  },
  {
   "cell_type": "code",
   "execution_count": 47,
   "metadata": {},
   "outputs": [
    {
     "data": {
      "text/plain": [
       "Index(['Type', 'Age', 'Breed1', 'Breed2', 'Gender', 'Color1', 'Color2',\n",
       "       'Color3', 'MaturitySize', 'FurLength', 'Vaccinated', 'Dewormed',\n",
       "       'Sterilized', 'Health', 'Quantity', 'Fee', 'State', 'VideoAmt',\n",
       "       'PhotoAmt'],\n",
       "      dtype='object')"
      ]
     },
     "execution_count": 47,
     "metadata": {},
     "output_type": "execute_result"
    }
   ],
   "source": [
    "X_train_norm.columns # 19 features in total"
   ]
  },
  {
   "cell_type": "markdown",
   "metadata": {},
   "source": [
    "We can look at the features that were shown and we see that the SelectFromModel with LinearSVC did not actually eliminate any feature."
   ]
  },
  {
   "cell_type": "code",
   "execution_count": 34,
   "metadata": {},
   "outputs": [
    {
     "data": {
      "text/plain": [
       "Index(['Type', 'Age', 'Breed1', 'Breed2', 'Gender', 'Color1', 'Color2',\n",
       "       'Color3', 'MaturitySize', 'FurLength', 'Vaccinated', 'Dewormed',\n",
       "       'Sterilized', 'Health', 'Quantity', 'Fee', 'State', 'VideoAmt',\n",
       "       'PhotoAmt'],\n",
       "      dtype='object')"
      ]
     },
     "execution_count": 34,
     "metadata": {},
     "output_type": "execute_result"
    }
   ],
   "source": [
    "feature_idx = clf.named_steps.feature_selection.get_support()\n",
    "X_train_norm.columns[feature_idx] "
   ]
  },
  {
   "cell_type": "markdown",
   "metadata": {},
   "source": [
    "Let's also try feature selection with SelectKBest and f_regression, using different values of k < 19."
   ]
  },
  {
   "cell_type": "code",
   "execution_count": 73,
   "metadata": {},
   "outputs": [
    {
     "name": "stdout",
     "output_type": "stream",
     "text": [
      "0.3545519971281305\n",
      "0.3479324144064028\n",
      "0.21948494143948605\n"
     ]
    }
   ],
   "source": [
    "kbest_filter = SelectKBest(f_regression, k=5)\n",
    "rf = RandomForestClassifier(n_estimators=65, max_depth=15)\n",
    "rf_kbest = Pipeline([('kbest', kbest_filter), ('rf', rf)])\n",
    "\n",
    "print(cross_val_score(rf_kbest, X_train_norm, y_train, cv=5).mean())\n",
    "rf_kbest.fit(X_train_norm, y_train)\n",
    "pred_test = rf_kbest.predict(X_test_norm)\n",
    "print(accuracy_score(y_test, pred_test))\n",
    "print(cohen_kappa_score(y_test, pred_test, weights=\"quadratic\"))"
   ]
  },
  {
   "cell_type": "code",
   "execution_count": 74,
   "metadata": {},
   "outputs": [
    {
     "name": "stdout",
     "output_type": "stream",
     "text": [
      "0.36445902768690003\n",
      "0.3485993775011116\n",
      "0.23011657507164684\n"
     ]
    }
   ],
   "source": [
    "kbest_filter = SelectKBest(f_regression, k=10)\n",
    "rf = RandomForestClassifier(n_estimators=65, max_depth=15)\n",
    "rf_kbest = Pipeline([('kbest', kbest_filter), ('rf', rf)])\n",
    "\n",
    "print(cross_val_score(rf_kbest, X_train_norm, y_train, cv=5).mean())\n",
    "rf_kbest.fit(X_train_norm, y_train)\n",
    "pred_test = rf_kbest.predict(X_test_norm)\n",
    "print(accuracy_score(y_test, pred_test))\n",
    "print(cohen_kappa_score(y_test, pred_test, weights=\"quadratic\"))"
   ]
  },
  {
   "cell_type": "code",
   "execution_count": 75,
   "metadata": {},
   "outputs": [
    {
     "name": "stdout",
     "output_type": "stream",
     "text": [
      "0.3953302842104428\n",
      "0.37950200088928415\n",
      "0.2801887783594732\n"
     ]
    }
   ],
   "source": [
    "kbest_filter = SelectKBest(f_regression, k=15)\n",
    "rf = RandomForestClassifier(n_estimators=65, max_depth=15)\n",
    "rf_kbest = Pipeline([('kbest', kbest_filter), ('rf', rf)])\n",
    "\n",
    "print(cross_val_score(rf_kbest, X_train_norm, y_train, cv=5).mean())\n",
    "rf_kbest.fit(X_train_norm, y_train)\n",
    "pred_test = rf_kbest.predict(X_test_norm)\n",
    "print(accuracy_score(y_test, pred_test))\n",
    "print(cohen_kappa_score(y_test, pred_test, weights=\"quadratic\"))"
   ]
  },
  {
   "cell_type": "code",
   "execution_count": 76,
   "metadata": {},
   "outputs": [
    {
     "data": {
      "text/plain": [
       "Index(['Type', 'Age', 'Breed1', 'Breed2', 'Gender', 'Color1', 'Color2',\n",
       "       'MaturitySize', 'FurLength', 'Vaccinated', 'Dewormed', 'Sterilized',\n",
       "       'Health', 'Quantity', 'PhotoAmt'],\n",
       "      dtype='object')"
      ]
     },
     "execution_count": 76,
     "metadata": {},
     "output_type": "execute_result"
    }
   ],
   "source": [
    "feature_idx = rf_kbest.named_steps.kbest.get_support()\n",
    "X_train_norm.columns[feature_idx] "
   ]
  },
  {
   "cell_type": "code",
   "execution_count": 77,
   "metadata": {},
   "outputs": [
    {
     "name": "stdout",
     "output_type": "stream",
     "text": [
      "0.38390021698410415\n",
      "0.3599377501111605\n",
      "0.26091047206007334\n"
     ]
    }
   ],
   "source": [
    "kbest_filter = SelectKBest(f_regression, k=13)\n",
    "rf = RandomForestClassifier(n_estimators=65, max_depth=15)\n",
    "rf_kbest = Pipeline([('kbest', kbest_filter), ('rf', rf)])\n",
    "\n",
    "print(cross_val_score(rf_kbest, X_train_norm, y_train, cv=5).mean())\n",
    "rf_kbest.fit(X_train_norm, y_train)\n",
    "pred_test = rf_kbest.predict(X_test_norm)\n",
    "print(accuracy_score(y_test, pred_test))\n",
    "print(cohen_kappa_score(y_test, pred_test, weights=\"quadratic\"))"
   ]
  },
  {
   "cell_type": "code",
   "execution_count": 78,
   "metadata": {},
   "outputs": [
    {
     "name": "stdout",
     "output_type": "stream",
     "text": [
      "0.4037152755308407\n",
      "0.38372610048910627\n",
      "0.2719489985916099\n"
     ]
    }
   ],
   "source": [
    "kbest_filter = SelectKBest(f_regression, k=17)\n",
    "rf = RandomForestClassifier(n_estimators=65, max_depth=15)\n",
    "rf_kbest = Pipeline([('kbest', kbest_filter), ('rf', rf)])\n",
    "\n",
    "print(cross_val_score(rf_kbest, X_train_norm, y_train, cv=5).mean())\n",
    "rf_kbest.fit(X_train_norm, y_train)\n",
    "pred_test = rf_kbest.predict(X_test_norm)\n",
    "print(accuracy_score(y_test, pred_test))\n",
    "print(cohen_kappa_score(y_test, pred_test, weights=\"quadratic\"))"
   ]
  },
  {
   "cell_type": "code",
   "execution_count": 79,
   "metadata": {},
   "outputs": [
    {
     "name": "stdout",
     "output_type": "stream",
     "text": [
      "0.4135312892479576\n",
      "0.38861716318363715\n",
      "0.280300678540088\n"
     ]
    }
   ],
   "source": [
    "kbest_filter = SelectKBest(f_regression, k=18)\n",
    "rf = RandomForestClassifier(n_estimators=65, max_depth=15)\n",
    "rf_kbest = Pipeline([('kbest', kbest_filter), ('rf', rf)])\n",
    "\n",
    "print(cross_val_score(rf_kbest, X_train_norm, y_train, cv=5).mean())\n",
    "rf_kbest.fit(X_train_norm, y_train)\n",
    "pred_test = rf_kbest.predict(X_test_norm)\n",
    "print(accuracy_score(y_test, pred_test))\n",
    "print(cohen_kappa_score(y_test, pred_test, weights=\"quadratic\"))"
   ]
  },
  {
   "cell_type": "markdown",
   "metadata": {},
   "source": [
    "We can also plot feature importances from the random forest model."
   ]
  },
  {
   "cell_type": "code",
   "execution_count": 80,
   "metadata": {},
   "outputs": [
    {
     "name": "stdout",
     "output_type": "stream",
     "text": [
      "Feature list: ['Type', 'Age', 'Breed1', 'Breed2', 'Gender', 'Color1', 'Color2', 'Color3', 'MaturitySize', 'FurLength', 'Vaccinated', 'Dewormed', 'Sterilized', 'Health', 'Quantity', 'Fee', 'State', 'PhotoAmt']\n",
      "\n",
      "Feature ranking:\n",
      "1. feature Age (0.140424)\n",
      "2. feature PhotoAmt (0.120097)\n",
      "3. feature Breed1 (0.094047)\n",
      "4. feature Color1 (0.069715)\n",
      "5. feature Color2 (0.068352)\n",
      "6. feature State (0.062146)\n",
      "7. feature Breed2 (0.058648)\n",
      "8. feature Quantity (0.045818)\n",
      "9. feature Fee (0.044373)\n",
      "10. feature Gender (0.042972)\n",
      "11. feature MaturitySize (0.042701)\n",
      "12. feature FurLength (0.041469)\n",
      "13. feature Sterilized (0.040933)\n",
      "14. feature Color3 (0.037233)\n",
      "15. feature Dewormed (0.033990)\n",
      "16. feature Vaccinated (0.033978)\n",
      "17. feature Health (0.011609)\n",
      "18. feature Type (0.011497)\n"
     ]
    },
    {
     "data": {
      "image/png": "[encoded data removed]",
      "text/plain": [
       "<Figure size 432x288 with 1 Axes>"
      ]
     },
     "metadata": {
      "needs_background": "light"
     },
     "output_type": "display_data"
    }
   ],
   "source": [
    "importances = rf_kbest.named_steps.rf.feature_importances_\n",
    "feature_idx = rf_kbest.named_steps.kbest.get_support()\n",
    "features = X_train_norm.columns[feature_idx]\n",
    "plot_feature_importances(rf_kbest.named_steps.rf, importances, features)"
   ]
  },
  {
   "cell_type": "markdown",
   "metadata": {},
   "source": [
    "## 2. Gaussian Naive Bayes\n",
    "\n",
    "Try with different types of datasets."
   ]
  },
  {
   "cell_type": "code",
   "execution_count": 11,
   "metadata": {},
   "outputs": [
    {
     "name": "stdout",
     "output_type": "stream",
     "text": [
      "0.3482\n",
      "0.3361\n"
     ]
    }
   ],
   "source": [
    "gnb = GaussianNB()\n",
    "gnb.fit(X_train, y_train)\n",
    "train_pred = gnb.predict(X_train)\n",
    "test_pred = gnb.predict(X_test)\n",
    "\n",
    "print(round(accuracy_score(train_pred, y_train), 4))\n",
    "print(round(accuracy_score(test_pred, y_test), 4))"
   ]
  },
  {
   "cell_type": "code",
   "execution_count": 12,
   "metadata": {},
   "outputs": [
    {
     "name": "stdout",
     "output_type": "stream",
     "text": [
      "0.3482\n",
      "0.3268\n"
     ]
    }
   ],
   "source": [
    "gnb = GaussianNB()\n",
    "gnb.fit(X_train_norm, y_train)\n",
    "train_pred = gnb.predict(X_train_norm)\n",
    "test_pred = gnb.predict(X_test_norm)\n",
    "\n",
    "print(round(accuracy_score(train_pred, y_train), 4))\n",
    "print(round(accuracy_score(test_pred, y_test), 4))"
   ]
  },
  {
   "cell_type": "code",
   "execution_count": 13,
   "metadata": {},
   "outputs": [
    {
     "name": "stdout",
     "output_type": "stream",
     "text": [
      "0.0785\n",
      "0.0522\n"
     ]
    }
   ],
   "source": [
    "gnb = GaussianNB()\n",
    "gnb.fit(X_train_dummies, y_train)\n",
    "train_pred = gnb.predict(X_train_dummies)\n",
    "test_pred = gnb.predict(X_test_dummies)\n",
    "\n",
    "print(round(accuracy_score(train_pred, y_train), 4))\n",
    "print(round(accuracy_score(test_pred, y_test), 4))"
   ]
  },
  {
   "cell_type": "markdown",
   "metadata": {},
   "source": [
    "## 3. AdaBoost "
   ]
  },
  {
   "cell_type": "code",
   "execution_count": 15,
   "metadata": {},
   "outputs": [
    {
     "name": "stdout",
     "output_type": "stream",
     "text": [
      "0.3981\n",
      "0.3746\n"
     ]
    }
   ],
   "source": [
    "ada = AdaBoostClassifier()\n",
    "ada.fit(X_train_norm, y_train)\n",
    "train_pred = ada.predict(X_train_norm)\n",
    "test_pred = ada.predict(X_test_norm)\n",
    "\n",
    "print(round(accuracy_score(train_pred, y_train), 4))\n",
    "print(round(accuracy_score(test_pred, y_test), 4))"
   ]
  },
  {
   "cell_type": "code",
   "execution_count": 19,
   "metadata": {},
   "outputs": [
    {
     "data": {
      "text/plain": [
       "array([[  0,  33,  30,   9,  52],\n",
       "       [  3, 161, 328,  92, 326],\n",
       "       [  0, 137, 415, 140, 530],\n",
       "       [  1,  88, 302, 182, 416],\n",
       "       [  2,  49, 173, 102, 927]], dtype=int64)"
      ]
     },
     "execution_count": 19,
     "metadata": {},
     "output_type": "execute_result"
    }
   ],
   "source": [
    "confusion_matrix(y_test, test_pred)"
   ]
  },
  {
   "cell_type": "code",
   "execution_count": null,
   "metadata": {},
   "outputs": [],
   "source": []
  }
 ],
 "metadata": {
  "kernelspec": {
   "display_name": "Python 3",
   "language": "python",
   "name": "python3"
  },
  "language_info": {
   "codemirror_mode": {
    "name": "ipython",
    "version": 3
   },
   "file_extension": ".py",
   "mimetype": "text/x-python",
   "name": "python",
   "nbconvert_exporter": "python",
   "pygments_lexer": "ipython3",
   "version": "3.6.8"
  }
 },
 "nbformat": 4,
 "nbformat_minor": 1
}
