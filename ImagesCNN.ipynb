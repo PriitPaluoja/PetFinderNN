{
 "cells": [
  {
   "cell_type": "code",
   "execution_count": 9,
   "metadata": {
    "pycharm": {
     "is_executing": false
    }
   },
   "outputs": [],
   "source": [
    "import os\n",
    "import pickle\n",
    "\n",
    "import keras.utils\n",
    "import numpy as np\n",
    "import pandas as pd\n",
    "from PIL import Image\n",
    "from keras.layers import Input, Conv2D, Activation, Flatten, Dense\n",
    "from keras.layers import (concatenate)\n",
    "from keras.models import Model\n",
    "from keras.optimizers import Adam\n",
    "from skimage.transform import resize\n",
    "from sklearn.metrics import accuracy_score, cohen_kappa_score\n",
    "from sklearn.model_selection import train_test_split\n",
    "from tqdm import tqdm\n",
    "\n",
    "\n",
    "data_image = \"C:\\\\Users\\\\Priit\\\\Dropbox\\\\Informaatika\\\\Magister\\\\Tehisnärvivõrgud\\\\data\\\\train_images\"\n",
    "data_dir = \"C:\\\\Users\\\\Priit\\\\Dropbox\\\\Informaatika\\\\Magister\\\\Tehisnärvivõrgud\\\\data\"\n",
    "\n",
    "label_column = \"AdoptionSpeed\"\n",
    "\n",
    "LIMIT = -1#100\n",
    "\n",
    "test_size = 0.2\n",
    "height, width = 100, 100"
   ]
  },
  {
   "cell_type": "code",
   "execution_count": 11,
   "metadata": {
    "pycharm": {}
   },
   "outputs": [],
   "source": [
    "train = pd.read_csv(os.path.join(data_dir, \"train.csv\"), sep=',', nrows=LIMIT if LIMIT != -1 else None)\n",
    "pet_ids = train[\"PetID\"]\n",
    "\n",
    "selected_columns = [\"Type\",\n",
    "                    \"Gender\",\n",
    "                    \"Color1\",\n",
    "                    \"Color2\",\n",
    "                    \"Color3\",\n",
    "                    \"MaturitySize\",\n",
    "                    \"FurLength\",\n",
    "                    \"Vaccinated\",\n",
    "                    \"Dewormed\",\n",
    "                    \"Sterilized\",\n",
    "                    \"Health\",\n",
    "                    \"State\",\n",
    "                    \"MaturitySize\"]\n",
    "\n",
    "\n",
    "\n",
    "\n",
    "y = train[label_column]\n",
    "\n",
    "# One-Hot-encode\n",
    "X = pd.get_dummies(train[selected_columns], columns=selected_columns)\n",
    "\n",
    "# Normalize:\n",
    "to_normalize = [\"Age\", \"Fee\", \"Quantity\"]\n",
    "for to_norm in to_normalize:\n",
    "     X[to_norm] = (train[to_norm] - train[to_norm].mean()) / train[to_norm].std()"
   ]
  },
  {
   "cell_type": "code",
   "execution_count": 5,
   "metadata": {
    "pycharm": {}
   },
   "outputs": [
    {
     "name": "stdout",
     "output_type": "stream",
     "text": [
      "(14992, 100, 100, 3)\n"
     ]
    }
   ],
   "source": [
    "\n",
    "f_im_name = \"images.binary\"\n",
    "\n",
    "if not os.path.isfile(f_im_name):\n",
    "    \n",
    "    image_paths = [os.path.join(data_dir, data_image, pet_id + \"-1.jpg\") for pet_id in pet_ids][:LIMIT]\n",
    "\n",
    "    images = []\n",
    "\n",
    "    for path in tqdm(image_paths):\n",
    "        if os.path.isfile(path):\n",
    "            image = Image.open(path).convert(\"RGB\") \n",
    "            image.load()\n",
    "            image = np.asarray(image, dtype=\"int32\" )\n",
    "            image = resize(image, (height, width), anti_aliasing=True, mode='constant')\n",
    "        else:\n",
    "            image = np.random.rand(height, width, 3) * 255\n",
    "        \n",
    "        images.append(image)\n",
    "    \n",
    "    images = np.array(images)\n",
    "\n",
    "    # Standardize:\n",
    "    mean = np.mean(images)\n",
    "    std = np.std(images)\n",
    "\n",
    "    images_meanstd = (images - mean)/std\n",
    "    with open(f_im_name, 'wb') as handle:\n",
    "        pickle.dump(images_meanstd, handle, protocol=pickle.HIGHEST_PROTOCOL)\n",
    "else:\n",
    "    with open(f_im_name, 'rb') as handle:\n",
    "        images_meanstd = pickle.load(handle)\n",
    "\n",
    "print(images_meanstd.shape)"
   ]
  },
  {
   "cell_type": "code",
   "execution_count": 16,
   "metadata": {
    "pycharm": {}
   },
   "outputs": [],
   "source": [
    "#X_train, X_test, y_train, y_test = train_test_split(images_meanstd, X[:LIMIT], y[:LIMIT], test_size=test_size, random_state=1)\n",
    "X_train_img, X_test_img, X_train_else, X_test_else, y_train, y_test = train_test_split(images_meanstd, \n",
    "                                                                                       X[:LIMIT], \n",
    "                                                                                       y[:LIMIT], \n",
    "                                                                                       test_size=test_size,\n",
    "                                                                                       random_state=1)"
   ]
  },
  {
   "cell_type": "code",
   "execution_count": null,
   "metadata": {
    "pycharm": {
     "is_executing": false,
     "metadata": false,
     "name": "#%%\n"
    }
   },
   "outputs": [
    {
     "name": "stdout",
     "output_type": "stream",
     "text": [
      "Train on 9594 samples, validate on 2399 samples\n",
      "Epoch 1/1\n",
      "  56/9594 [..............................] - ETA: 51:02 - loss: 1.6108 - acc: 0.50 - ETA: 32:13 - loss: 5.3404 - acc: 0.37 - ETA: 25:44 - loss: 4.4097 - acc: 0.29 - ETA: 22:38 - loss: 3.7346 - acc: 0.25 - ETA: 20:37 - loss: 3.3539 - acc: 0.22 - ETA: 19:15 - loss: 3.9835 - acc: 0.22 - ETA: 18:24 - loss: 3.6440 - acc: 0.2321"
     ]
    }
   ],
   "source": [
    "# https://stackoverflow.com/questions/49618986/neural-network-in-keras-with-two-different-input-types-images-and-values\n",
    "\n",
    "aux_input = Input(shape=(len(list(X_train_else)),))\n",
    "image_input = Input(shape=(height, width, 3))\n",
    "\n",
    "\n",
    "h = Conv2D(32, (7, 7), strides=(2, 2))(image_input)\n",
    "h = Conv2D(64, (14, 14))(h)\n",
    "h = Activation('relu')(h)\n",
    "flatten = Flatten()(h)\n",
    "\n",
    "merge = concatenate([flatten, aux_input])\n",
    "\n",
    "# Inital network:\n",
    "x = Dense(150, activation='relu')(merge)\n",
    "x = Dense(250, activation='relu')(x)\n",
    "x = Dense(350, activation='relu')(x)\n",
    "x = Dense(450, activation='relu')(x)\n",
    "x = Dense(700, activation='relu')(x)\n",
    "x = Dense(500)(x)\n",
    "\n",
    "# Added merged\n",
    "d1 = Dense(100, activation='elu')(merge)\n",
    "d2 = Dense(50, activation='elu')(d1)\n",
    "d3 = Dense(10, activation='elu')(d2)\n",
    "h = Dense(5)(d3)\n",
    "predictions = Activation('softmax')(h)\n",
    "\n",
    "model = Model(inputs=[image_input, aux_input], outputs=predictions)\n",
    "model.compile(optimizer=Adam(lr=0.001), loss='categorical_crossentropy', metrics=['accuracy'])\n",
    "\n",
    "\n",
    "history = model.fit([X_train_img, X_train_else], \n",
    "                    keras.utils.to_categorical(y_train),\n",
    "                    batch_size=8, \n",
    "                    epochs=1, \n",
    "                    validation_split=0.2)"
   ]
  },
  {
   "cell_type": "code",
   "execution_count": null,
   "metadata": {
    "pycharm": {}
   },
   "outputs": [],
   "source": [
    "test_predictions = model.predict([X_test_img, X_test_else])\n",
    "test_predictions = [np.argmax(pred) for pred in test_predictions]\n",
    "train_pred = [np.argmax(pred) for pred in model.predict([X_test_img, X_test_else])]\n",
    "print(test_predictions)\n",
    "\n",
    "print(\"Kappa on train: {}\".format(round(cohen_kappa_score(y_train, train_pred, weights=\"quadratic\"), 4)))\n",
    "print(\"Accuracy on train: {}\".format(round(accuracy_score(y_train, train_pred), 4)))\n",
    "print(\"________________\")\n",
    "print(\"Kappa on test: {}\".format(round(cohen_kappa_score(y_test, test_predictions, weights=\"quadratic\"), 4)))\n",
    "print(\"Accuracy on test: {}\".format(round(accuracy_score(y_test, test_predictions), 4)))"
   ]
  },
  {
   "cell_type": "code",
   "execution_count": null,
   "metadata": {
    "pycharm": {}
   },
   "outputs": [],
   "source": []
  }
 ],
 "metadata": {
  "kernelspec": {
   "display_name": "PyCharm (PetFinderNN)",
   "language": "python",
   "name": "pycharm-b185692d"
  }
 },
 "nbformat": 4,
 "nbformat_minor": 1
}
