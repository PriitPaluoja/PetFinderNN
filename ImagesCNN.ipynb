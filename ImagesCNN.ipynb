{
 "cells": [
  {
   "cell_type": "markdown",
   "metadata": {},
   "source": [
    "# PetFinder.my"
   ]
  },
  {
   "cell_type": "code",
   "execution_count": 1,
   "metadata": {
    "pycharm": {
     "is_executing": false
    }
   },
   "outputs": [
    {
     "name": "stderr",
     "output_type": "stream",
     "text": [
      "Using TensorFlow backend.\n"
     ]
    }
   ],
   "source": [
    "import json\n",
    "import os\n",
    "import pickle\n",
    "\n",
    "import keras.utils\n",
    "import matplotlib.pyplot as plt\n",
    "import numpy as np\n",
    "import pandas as pd\n",
    "from PIL import Image\n",
    "from keras.applications import Xception\n",
    "from keras.callbacks import ModelCheckpoint\n",
    "from keras.layers import Input, Activation, Flatten, Dense\n",
    "from keras.layers import (concatenate)\n",
    "from keras.models import Model\n",
    "from keras.models import load_model\n",
    "from keras.optimizers import Adam\n",
    "from skimage.transform import resize\n",
    "from sklearn.ensemble import RandomForestClassifier\n",
    "from sklearn.metrics import accuracy_score, cohen_kappa_score\n",
    "from sklearn.model_selection import train_test_split\n",
    "from tqdm import tqdm\n",
    "%matplotlib inline\n",
    "\n",
    "data_dir = \"C:\\\\Users\\\\Priit\\\\Dropbox\\\\Informaatika\\\\Magister\\\\Tehisnärvivõrgud\\\\data\"\n",
    "\n",
    "sentiment_train_dir =  os.path.join(data_dir, \"train_sentiment\") \n",
    "sentiment_test_dir =  os.path.join(data_dir, \"test_sentiment\") \n",
    "\n",
    "train_image = os.path.join(data_dir, \"train_images\")\n",
    "test_image = os.path.join(data_dir, \"test_images\")\n",
    "\n",
    "label_column = \"AdoptionSpeed\"\n",
    "\n",
    "BATCH_SIZE, test_size = 512, 0.2\n",
    "\n",
    "height, width = 100, 100"
   ]
  },
  {
   "cell_type": "markdown",
   "metadata": {},
   "source": [
    "# Data processing\n",
    "### Helper functions for data processing"
   ]
  },
  {
   "cell_type": "code",
   "execution_count": 2,
   "metadata": {
    "pycharm": {}
   },
   "outputs": [],
   "source": [
    "def read_csv_kaggle(path, is_train):\n",
    "    train = pd.read_csv(path, sep=',')\n",
    "    pet_ids = train[\"PetID\"]\n",
    "\n",
    "    selected_columns = [\"Type\",\n",
    "                        \"Gender\",\n",
    "                        \"Color1\",\n",
    "                        \"Color2\",\n",
    "                        \"Color3\",\n",
    "                        \"MaturitySize\",\n",
    "                        \"FurLength\",\n",
    "                        \"Vaccinated\",\n",
    "                        \"Dewormed\",\n",
    "                        \"Sterilized\",\n",
    "                        \"Health\",\n",
    "                        #\"State\",\n",
    "                        \"MaturitySize\"]\n",
    "    \n",
    "    y = train[label_column] if is_train else None\n",
    "    \n",
    "    # One-Hot-encode\n",
    "    X = pd.get_dummies(train[selected_columns], columns=selected_columns)\n",
    "\n",
    "    # Normalize:\n",
    "    to_normalize = [\"Age\", \"Fee\", \"Quantity\"]\n",
    "    for to_norm in to_normalize:\n",
    "         X[to_norm] = (train[to_norm] - train[to_norm].mean()) / train[to_norm].std()\n",
    "    \n",
    "    return X, y, pet_ids\n",
    "\n",
    "def read_images(image_paths):\n",
    "    def random_image():\n",
    "        return np.random.rand(height, width, 3) * 255\n",
    "    \n",
    "    def read_image(path):\n",
    "        img = np.asarray(Image.open(path).convert(\"RGB\"), dtype=\"int32\" )\n",
    "        return resize(img, (height, width), anti_aliasing=True, mode='constant')    \n",
    "\n",
    "    return np.array([read_image(path) if os.path.isfile(path) else random_image() for path in tqdm(image_paths)])\n",
    "\n",
    "def read_sentiment(pet_ids, sentiment_paths):\n",
    "    magnitudes, scores = [], []\n",
    "    \n",
    "    for pet_id in tqdm(pet_ids):\n",
    "        file_loc = os.path.join(sentiment_paths, \"{}.json\".format(pet_id))\n",
    "        # check if there exists sentiment analysis for the pet, else set scores 0.0\n",
    "        if os.path.isfile(file_loc):\n",
    "            with open(file_loc, encoding=\"UTF-8\", mode=\"r\") as json_file:  \n",
    "                data = json.load(json_file)\n",
    "                magnitude,score = data[\"documentSentiment\"][\"magnitude\"], data[\"documentSentiment\"][\"score\"]\n",
    "        else:\n",
    "            magnitude, score = 0.0, 0.0\n",
    "    \n",
    "        magnitudes.append(magnitude)\n",
    "        scores.append(score)\n",
    "    return magnitudes, scores\n",
    "    "
   ]
  },
  {
   "cell_type": "markdown",
   "metadata": {},
   "source": [
    "### Read training CSV"
   ]
  },
  {
   "cell_type": "code",
   "execution_count": 3,
   "metadata": {
    "pycharm": {}
   },
   "outputs": [
    {
     "name": "stderr",
     "output_type": "stream",
     "text": [
      "100%|██████████████████████████████████████████████████████████████████████████| 14993/14993 [00:12<00:00, 1242.90it/s]\n"
     ]
    }
   ],
   "source": [
    "X, y, pet_ids = read_csv_kaggle(os.path.join(data_dir, \"train.csv\"), True)\n",
    "X[\"sent_magnitude\"], X[\"sent_score\"] = read_sentiment(pet_ids, sentiment_train_dir)"
   ]
  },
  {
   "cell_type": "markdown",
   "metadata": {},
   "source": [
    "### Read training images"
   ]
  },
  {
   "cell_type": "code",
   "execution_count": 4,
   "metadata": {
    "pycharm": {}
   },
   "outputs": [
    {
     "name": "stdout",
     "output_type": "stream",
     "text": [
      "(14993, 100, 100, 3)\n"
     ]
    }
   ],
   "source": [
    "f_im_name = \"images.binary\"\n",
    "\n",
    "if not os.path.isfile(f_im_name):\n",
    "    images = read_images([os.path.join(train_image, pet_id + \"-1.jpg\") for pet_id in pet_ids])\n",
    "    \n",
    "    # Standardize:\n",
    "    mean, std = np.mean(images), np.std(images)\n",
    "    images_meanstd = (images - mean)/std\n",
    "    \n",
    "    with open(f_im_name, 'wb') as handle_1, open(\"mnstd\", 'wb') as handle_2:\n",
    "        pickle.dump(images_meanstd, handle_1, protocol=pickle.HIGHEST_PROTOCOL)        \n",
    "        pickle.dump((mean, std), handle_2, protocol=pickle.HIGHEST_PROTOCOL)\n",
    "\n",
    "else:\n",
    "    with open(f_im_name, 'rb') as handle_1, open(\"mnstd\", 'rb') as handle_2:\n",
    "        images_meanstd = pickle.load(handle_1)\n",
    "        temp = pickle.load(handle_2)\n",
    "        mean, std = temp[0], temp[1]\n",
    "                \n",
    "print(images_meanstd.shape)"
   ]
  },
  {
   "cell_type": "markdown",
   "metadata": {},
   "source": [
    "### Split traint/test"
   ]
  },
  {
   "cell_type": "code",
   "execution_count": 5,
   "metadata": {
    "pycharm": {}
   },
   "outputs": [],
   "source": [
    "X_train_img, X_test_img, X_train_else, X_test_else, y_train, y_test = train_test_split(images_meanstd, \n",
    "                                                                                       X, \n",
    "                                                                                       y, \n",
    "                                                                                       test_size=test_size,\n",
    "                                                                                       random_state=1)"
   ]
  },
  {
   "cell_type": "markdown",
   "metadata": {},
   "source": [
    "# Create & train models"
   ]
  },
  {
   "cell_type": "markdown",
   "metadata": {},
   "source": [
    "### Baseline model"
   ]
  },
  {
   "cell_type": "code",
   "execution_count": 6,
   "metadata": {},
   "outputs": [
    {
     "data": {
      "text/plain": [
       "RandomForestClassifier(bootstrap=True, class_weight=None, criterion='gini',\n",
       "            max_depth=15, max_features='auto', max_leaf_nodes=None,\n",
       "            min_impurity_decrease=0.0, min_impurity_split=None,\n",
       "            min_samples_leaf=1, min_samples_split=2,\n",
       "            min_weight_fraction_leaf=0.0, n_estimators=65, n_jobs=None,\n",
       "            oob_score=False, random_state=None, verbose=0,\n",
       "            warm_start=False)"
      ]
     },
     "execution_count": 6,
     "metadata": {},
     "output_type": "execute_result"
    }
   ],
   "source": [
    "rf = RandomForestClassifier(n_estimators=65, max_depth=15)\n",
    "rf.fit(X_train_else, y_train)"
   ]
  },
  {
   "cell_type": "markdown",
   "metadata": {},
   "source": [
    "### Neural Net solution"
   ]
  },
  {
   "cell_type": "code",
   "execution_count": 7,
   "metadata": {
    "pycharm": {
     "is_executing": false,
     "metadata": false,
     "name": "#%%\n"
    }
   },
   "outputs": [
    {
     "name": "stdout",
     "output_type": "stream",
     "text": [
      "WARNING:tensorflow:From C:\\Users\\Priit\\Anaconda3\\lib\\site-packages\\tensorflow\\python\\framework\\op_def_library.py:263: colocate_with (from tensorflow.python.framework.ops) is deprecated and will be removed in a future version.\n",
      "Instructions for updating:\n",
      "Colocations handled automatically by placer.\n",
      "WARNING:tensorflow:From C:\\Users\\Priit\\Anaconda3\\lib\\site-packages\\tensorflow\\python\\ops\\math_ops.py:3066: to_int32 (from tensorflow.python.ops.math_ops) is deprecated and will be removed in a future version.\n",
      "Instructions for updating:\n",
      "Use tf.cast instead.\n",
      "Train on 10794 samples, validate on 1200 samples\n",
      "Epoch 1/4\n",
      "10794/10794 [==============================] - ETA: 31:02 - loss: 1.6883 - acc: 0.03 - ETA: 26:14 - loss: 1.6588 - acc: 0.15 - ETA: 23:17 - loss: 1.6063 - acc: 0.19 - ETA: 20:59 - loss: 1.5894 - acc: 0.21 - ETA: 19:42 - loss: 1.5798 - acc: 0.23 - ETA: 18:44 - loss: 1.5781 - acc: 0.25 - ETA: 17:42 - loss: 1.5728 - acc: 0.26 - ETA: 16:19 - loss: 1.5738 - acc: 0.26 - ETA: 14:51 - loss: 1.5698 - acc: 0.27 - ETA: 13:29 - loss: 1.5570 - acc: 0.28 - ETA: 12:10 - loss: 1.5482 - acc: 0.28 - ETA: 10:51 - loss: 1.5486 - acc: 0.29 - ETA: 9:36 - loss: 1.5572 - acc: 0.2901 - ETA: 8:20 - loss: 1.5657 - acc: 0.293 - ETA: 7:09 - loss: 1.5620 - acc: 0.297 - ETA: 5:59 - loss: 1.5692 - acc: 0.298 - ETA: 4:49 - loss: 1.5666 - acc: 0.301 - ETA: 3:38 - loss: 1.5693 - acc: 0.302 - ETA: 2:26 - loss: 1.5683 - acc: 0.306 - ETA: 1:15 - loss: 1.5643 - acc: 0.308 - ETA: 5s - loss: 1.5597 - acc: 0.3107  - 1614s 150ms/step - loss: 1.5970 - acc: 0.3107 - val_loss: 1.5705 - val_acc: 0.3667\n",
      "Epoch 2/4\n",
      "10794/10794 [==============================] - ETA: 23:03 - loss: 1.4798 - acc: 0.34 - ETA: 21:05 - loss: 1.5357 - acc: 0.35 - ETA: 20:44 - loss: 1.5539 - acc: 0.35 - ETA: 19:52 - loss: 1.5268 - acc: 0.35 - ETA: 18:56 - loss: 1.5236 - acc: 0.35 - ETA: 19:04 - loss: 1.5251 - acc: 0.35 - ETA: 17:56 - loss: 1.5183 - acc: 0.35 - ETA: 16:15 - loss: 1.5279 - acc: 0.35 - ETA: 14:51 - loss: 1.5276 - acc: 0.35 - ETA: 13:25 - loss: 1.5222 - acc: 0.35 - ETA: 12:02 - loss: 1.5133 - acc: 0.35 - ETA: 10:44 - loss: 1.5187 - acc: 0.35 - ETA: 9:30 - loss: 1.5191 - acc: 0.3591 - ETA: 8:16 - loss: 1.5199 - acc: 0.358 - ETA: 7:04 - loss: 1.5208 - acc: 0.356 - ETA: 5:53 - loss: 1.5177 - acc: 0.357 - ETA: 4:46 - loss: 1.5145 - acc: 0.358 - ETA: 3:39 - loss: 1.5129 - acc: 0.357 - ETA: 2:30 - loss: 1.5130 - acc: 0.357 - ETA: 1:17 - loss: 1.5104 - acc: 0.357 - ETA: 5s - loss: 1.5077 - acc: 0.3563  - 1665s 154ms/step - loss: 1.5406 - acc: 0.3564 - val_loss: 1.5614 - val_acc: 0.3667\n",
      "Epoch 3/4\n",
      "10794/10794 [==============================] - ETA: 22:54 - loss: 1.5442 - acc: 0.34 - ETA: 20:59 - loss: 1.4986 - acc: 0.35 - ETA: 19:13 - loss: 1.4603 - acc: 0.35 - ETA: 18:20 - loss: 1.4457 - acc: 0.36 - ETA: 17:11 - loss: 1.4414 - acc: 0.36 - ETA: 16:24 - loss: 1.4509 - acc: 0.35 - ETA: 15:23 - loss: 1.4590 - acc: 0.35 - ETA: 14:24 - loss: 1.4668 - acc: 0.36 - ETA: 13:27 - loss: 1.4656 - acc: 0.36 - ETA: 12:39 - loss: 1.4734 - acc: 0.36 - ETA: 11:36 - loss: 1.4731 - acc: 0.36 - ETA: 10:31 - loss: 1.4874 - acc: 0.37 - ETA: 9:19 - loss: 1.4973 - acc: 0.3678 - ETA: 8:04 - loss: 1.4980 - acc: 0.365 - ETA: 6:51 - loss: 1.4919 - acc: 0.366 - ETA: 5:40 - loss: 1.4933 - acc: 0.368 - ETA: 4:31 - loss: 1.4902 - acc: 0.370 - ETA: 3:23 - loss: 1.4924 - acc: 0.370 - ETA: 2:16 - loss: 1.4922 - acc: 0.373 - ETA: 1:10 - loss: 1.4873 - acc: 0.375 - ETA: 5s - loss: 1.4853 - acc: 0.3754  - 1484s 137ms/step - loss: 1.4875 - acc: 0.3751 - val_loss: 1.5756 - val_acc: 0.3508\n",
      "Epoch 4/4\n",
      "10794/10794 [==============================] - ETA: 18:06 - loss: 1.4061 - acc: 0.40 - ETA: 17:16 - loss: 1.4714 - acc: 0.38 - ETA: 16:20 - loss: 1.4674 - acc: 0.39 - ETA: 15:27 - loss: 1.4728 - acc: 0.39 - ETA: 14:34 - loss: 1.4915 - acc: 0.38 - ETA: 13:40 - loss: 1.4767 - acc: 0.39 - ETA: 12:47 - loss: 1.4796 - acc: 0.38 - ETA: 11:51 - loss: 1.4747 - acc: 0.38 - ETA: 10:57 - loss: 1.4795 - acc: 0.38 - ETA: 10:03 - loss: 1.4809 - acc: 0.38 - ETA: 9:09 - loss: 1.4789 - acc: 0.3817 - ETA: 8:14 - loss: 1.4757 - acc: 0.381 - ETA: 7:20 - loss: 1.4726 - acc: 0.377 - ETA: 6:25 - loss: 1.4800 - acc: 0.378 - ETA: 5:32 - loss: 1.4815 - acc: 0.378 - ETA: 4:39 - loss: 1.4800 - acc: 0.379 - ETA: 3:45 - loss: 1.4835 - acc: 0.378 - ETA: 2:51 - loss: 1.4824 - acc: 0.380 - ETA: 1:55 - loss: 1.4880 - acc: 0.381 - ETA: 1:00 - loss: 1.4855 - acc: 0.381 - ETA: 4s - loss: 1.4797 - acc: 0.3825  - 1303s 121ms/step - loss: 1.5142 - acc: 0.3824 - val_loss: 1.5521 - val_acc: 0.3825\n"
     ]
    }
   ],
   "source": [
    "# https://stackoverflow.com/questions/49618986/neural-network-in-keras-with-two-different-input-types-images-and-values\n",
    "# https://www.learnopencv.com/keras-tutorial-transfer-learning-using-pre-trained-models/\n",
    "\n",
    "transfer = Xception(weights='imagenet', include_top=False, input_shape=(height, width, 3))\n",
    "\n",
    "# Freeze Xception\n",
    "for layer in transfer.layers[:-3]:\n",
    "    layer.trainable = False\n",
    "\n",
    "# Inputs\n",
    "image_input = Input(shape=(height, width, 3))\n",
    "aux_input = Input(shape=(len(list(X_train_else)),))\n",
    "\n",
    "# Images:\n",
    "transfer = transfer(image_input)\n",
    "flatten = Flatten()(transfer)\n",
    "\n",
    "# Aux input:\n",
    "x = Dense(250, activation='relu')(aux_input)\n",
    "x = Dense(350, activation='relu')(x)\n",
    "x = Dense(450, activation='relu')(x)\n",
    "x = Dense(700, activation='relu')(x)\n",
    "\n",
    "# Merged:\n",
    "merge = concatenate([flatten, x])\n",
    "x = Dense(100)(merge)\n",
    "h = Dense(5)(x)\n",
    "\n",
    "# Predictions:\n",
    "predictions = Activation('softmax')(h)\n",
    "\n",
    "model = Model(inputs=[image_input, aux_input], outputs=predictions)\n",
    "model.compile(optimizer=Adam(lr=0.001), loss='categorical_crossentropy', metrics=['accuracy'])\n",
    "\n",
    "\n",
    "history = model.fit([X_train_img, X_train_else], \n",
    "                    keras.utils.to_categorical(y_train),\n",
    "                    batch_size=BATCH_SIZE, \n",
    "                    epochs=4, \n",
    "                    validation_split=0.1,\n",
    "                    callbacks=[ModelCheckpoint('test_model.h5', save_best_only=True)])"
   ]
  },
  {
   "cell_type": "code",
   "execution_count": 8,
   "metadata": {},
   "outputs": [
    {
     "data": {
      "text/plain": [
       "Text(0.5, 1.0, 'Accuracy')"
      ]
     },
     "execution_count": 8,
     "metadata": {},
     "output_type": "execute_result"
    },
    {
     "data": {
      "image/png": "[encoded data removed]",
      "text/plain": [
       "<Figure size 1152x432 with 2 Axes>"
      ]
     },
     "metadata": {
      "needs_background": "light"
     },
     "output_type": "display_data"
    }
   ],
   "source": [
    "plt.figure(figsize=(16, 6))\n",
    "\n",
    "plt.subplot(1, 2, 1)\n",
    "plt.plot(history.history['loss'])\n",
    "plt.plot(history.history['val_loss'])\n",
    "plt.xlabel('Epoch')\n",
    "plt.ylabel('Loss')\n",
    "plt.legend(['Training', 'Validation'])\n",
    "plt.title('Loss')\n",
    "\n",
    "plt.subplot(1, 2, 2)\n",
    "plt.plot(history.history['acc'])\n",
    "plt.plot(history.history['val_acc'])\n",
    "plt.xlabel('Epoch')\n",
    "plt.ylabel('Accuracy')\n",
    "plt.legend(['Training', 'Validation'])\n",
    "plt.title('Accuracy')"
   ]
  },
  {
   "cell_type": "markdown",
   "metadata": {},
   "source": [
    "# Evaluate models\n",
    "\n",
    "## Neural Net"
   ]
  },
  {
   "cell_type": "code",
   "execution_count": 9,
   "metadata": {
    "pycharm": {}
   },
   "outputs": [],
   "source": [
    "train_pred = [np.argmax(pred) for pred in model.predict([X_train_img, X_train_else])]\n",
    "test_predictions = [np.argmax(pred) for pred in model.predict([X_test_img, X_test_else])]"
   ]
  },
  {
   "cell_type": "code",
   "execution_count": 10,
   "metadata": {
    "pycharm": {}
   },
   "outputs": [
    {
     "name": "stdout",
     "output_type": "stream",
     "text": [
      "Kappa on train: 0.3049\n",
      "Accuracy on train: 0.3954\n",
      "________________\n",
      "Kappa on test: 0.2323\n",
      "Accuracy on test: 0.3608\n"
     ]
    }
   ],
   "source": [
    "print(\"Kappa on train: {}\".format(round(cohen_kappa_score(y_train, train_pred, weights=\"quadratic\"), 4)))\n",
    "print(\"Accuracy on train: {}\".format(round(accuracy_score(y_train, train_pred), 4)))\n",
    "print(\"________________\")\n",
    "print(\"Kappa on test: {}\".format(round(cohen_kappa_score(y_test, test_predictions, weights=\"quadratic\"), 4)))\n",
    "print(\"Accuracy on test: {}\".format(round(accuracy_score(y_test, test_predictions), 4)))"
   ]
  },
  {
   "cell_type": "markdown",
   "metadata": {},
   "source": [
    "## Baseline"
   ]
  },
  {
   "cell_type": "code",
   "execution_count": 11,
   "metadata": {
    "pycharm": {}
   },
   "outputs": [
    {
     "name": "stdout",
     "output_type": "stream",
     "text": [
      "Kappa on train: 0.8107\n",
      "Accuracy on train: 0.8413\n",
      "________________\n",
      "Kappa on test: 0.2675\n",
      "Accuracy on test: 0.3731\n"
     ]
    }
   ],
   "source": [
    "train_pred = [pred for pred in rf.predict(X_train_else)]\n",
    "test_predictions = [pred for pred in rf.predict(X_test_else)]\n",
    "\n",
    "print(\"Kappa on train: {}\".format(round(cohen_kappa_score(y_train, train_pred, weights=\"quadratic\"), 4)))\n",
    "print(\"Accuracy on train: {}\".format(round(accuracy_score(y_train, train_pred), 4)))\n",
    "print(\"________________\")\n",
    "print(\"Kappa on test: {}\".format(round(cohen_kappa_score(y_test, test_predictions, weights=\"quadratic\"), 4)))\n",
    "print(\"Accuracy on test: {}\".format(round(accuracy_score(y_test, test_predictions), 4)))"
   ]
  },
  {
   "cell_type": "markdown",
   "metadata": {},
   "source": [
    "## Kaggle Test"
   ]
  },
  {
   "cell_type": "code",
   "execution_count": 12,
   "metadata": {
    "pycharm": {}
   },
   "outputs": [
    {
     "name": "stderr",
     "output_type": "stream",
     "text": [
      "100%|████████████████████████████████████████████████████████████████████████████| 3972/3972 [00:03<00:00, 1114.86it/s]\n",
      "100%|██████████████████████████████████████████████████████████████████████████████| 3972/3972 [01:37<00:00, 40.56it/s]\n"
     ]
    }
   ],
   "source": [
    "test, _, test_pet_ids = read_csv_kaggle(os.path.join(data_dir, \"test.csv\"), False)\n",
    "test[\"sent_magnitude\"], test[\"sent_score\"] = read_sentiment(test_pet_ids, sentiment_test_dir)\n",
    "test_images = read_images([os.path.join(test_image, pet_id + \"-1.jpg\") for pet_id in test_pet_ids])\n",
    "test_images_std = (test_images - mean)/std"
   ]
  },
  {
   "cell_type": "markdown",
   "metadata": {
    "pycharm": {}
   },
   "source": [
    "### Neural Net"
   ]
  },
  {
   "cell_type": "code",
   "execution_count": 13,
   "metadata": {
    "pycharm": {}
   },
   "outputs": [],
   "source": [
    "loaded = load_model('test_model.h5')\n",
    "test_pred = loaded.predict([test_images_std, test])\n",
    "test_pred_label = [np.argmax(pred) for pred in test_pred]\n",
    "pd.DataFrame({'PetID': test_pet_ids, 'AdoptionSpeed': test_pred_label}).to_csv('neural.csv', index=False)"
   ]
  },
  {
   "cell_type": "markdown",
   "metadata": {
    "pycharm": {}
   },
   "source": [
    "### Baseline"
   ]
  },
  {
   "cell_type": "code",
   "execution_count": 14,
   "metadata": {
    "pycharm": {}
   },
   "outputs": [],
   "source": [
    "pd.DataFrame({'PetID': test_pet_ids, 'AdoptionSpeed': rf.predict(test)}).to_csv('baseline.csv', index=False)"
   ]
  },
  {
   "cell_type": "code",
   "execution_count": null,
   "metadata": {},
   "outputs": [],
   "source": []
  },
  {
   "cell_type": "code",
   "execution_count": null,
   "metadata": {},
   "outputs": [],
   "source": []
  }
 ],
 "metadata": {
  "kernelspec": {
   "display_name": "PyCharm (PetFinderNN)",
   "language": "python",
   "name": "pycharm-b185692d"
  },
  "language_info": {
   "codemirror_mode": {
    "name": "ipython",
    "version": 3
   },
   "file_extension": ".py",
   "mimetype": "text/x-python",
   "name": "python",
   "nbconvert_exporter": "python",
   "pygments_lexer": "ipython3",
   "version": "3.6.7"
  },
  "pycharm": {
   "stem_cell": {
    "cell_type": "raw",
    "metadata": {
     "collapsed": false
    },
    "source": []
   }
  }
 },
 "nbformat": 4,
 "nbformat_minor": 1
}
