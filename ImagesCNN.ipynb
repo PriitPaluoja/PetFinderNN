{
 "cells": [
  {
   "cell_type": "code",
   "execution_count": 12,
   "metadata": {
    "pycharm": {
     "is_executing": false
    }
   },
   "outputs": [],
   "source": [
    "import os\n",
    "import pickle\n",
    "\n",
    "import keras.backend as K\n",
    "import keras.utils\n",
    "import numpy as np\n",
    "import pandas as pd\n",
    "import tensorflow as tf\n",
    "from PIL import Image\n",
    "from keras.applications import Xception\n",
    "from keras.layers import Input, Activation, Flatten, Dense\n",
    "from keras.layers import (concatenate)\n",
    "from keras.models import Model\n",
    "from keras.optimizers import Adam\n",
    "from skimage.transform import resize\n",
    "from sklearn.metrics import accuracy_score, cohen_kappa_score\n",
    "from sklearn.model_selection import train_test_split\n",
    "from tqdm import tqdm\n",
    "\n",
    "\n",
    "\n",
    "data_image = \"C:\\\\Users\\\\Priit\\\\Dropbox\\\\Informaatika\\\\Magister\\\\Tehisnärvivõrgud\\\\data\\\\train_images\"\n",
    "data_dir = \"C:\\\\Users\\\\Priit\\\\Dropbox\\\\Informaatika\\\\Magister\\\\Tehisnärvivõrgud\\\\data\"\n",
    "\n",
    "label_column = \"AdoptionSpeed\"\n",
    "\n",
    "BATCH_SIZE = 256 * 2\n",
    "\n",
    "test_size = 0.2\n",
    "height, width = 100, 100"
   ]
  },
  {
   "cell_type": "code",
   "execution_count": 2,
   "metadata": {
    "pycharm": {}
   },
   "outputs": [],
   "source": [
    "# Source: https://www.kaggle.com/christofhenkel/weighted-kappa-loss-for-keras-tensorflow\n",
    "def kappa_loss(y_pred, y_true, y_pow=2, eps=1e-3, N=5, bsize=BATCH_SIZE, name='kappa'):\n",
    "    \"\"\"A continuous differentiable approximation of discrete kappa loss.\n",
    "        Args:\n",
    "            y_pred: 2D tensor or array, [batch_size, num_classes]\n",
    "            y_true: 2D tensor or array,[batch_size, num_classes]\n",
    "            y_pow: int,  e.g. y_pow=2\n",
    "            N: typically num_classes of the model\n",
    "            bsize: batch_size of the training or validation ops\n",
    "            eps: a float, prevents divide by zero\n",
    "            name: Optional scope/name for op_scope.\n",
    "        Returns:\n",
    "            A tensor with the kappa loss.\"\"\"\n",
    "\n",
    "    with tf.name_scope(name):\n",
    "        y_true = tf.to_float(y_true)\n",
    "        repeat_op = tf.to_float(tf.tile(tf.reshape(tf.range(0, N), [N, 1]), [1, N]))\n",
    "        repeat_op_sq = tf.square((repeat_op - tf.transpose(repeat_op)))\n",
    "        weights = repeat_op_sq / tf.to_float((N - 1) ** 2)\n",
    "    \n",
    "        pred_ = y_pred ** y_pow\n",
    "        try:\n",
    "            pred_norm = pred_ / (eps + tf.reshape(tf.reduce_sum(pred_, 1), [-1, 1]))\n",
    "        except Exception:\n",
    "            pred_norm = pred_ / (eps + tf.reshape(tf.reduce_sum(pred_, 1), [bsize, 1]))\n",
    "    \n",
    "        hist_rater_a = tf.reduce_sum(pred_norm, 0)\n",
    "        hist_rater_b = tf.reduce_sum(y_true, 0)\n",
    "    \n",
    "        conf_mat = tf.matmul(tf.transpose(pred_norm), y_true)\n",
    "    \n",
    "        nom = tf.reduce_sum(weights * conf_mat)\n",
    "        denom = tf.reduce_sum(weights * tf.matmul(\n",
    "            tf.reshape(hist_rater_a, [N, 1]), tf.reshape(hist_rater_b, [1, N])) /\n",
    "                              tf.to_float(bsize))\n",
    "    \n",
    "        return nom / (denom + eps)"
   ]
  },
  {
   "cell_type": "code",
   "execution_count": 3,
   "metadata": {
    "pycharm": {}
   },
   "outputs": [],
   "source": [
    "train = pd.read_csv(os.path.join(data_dir, \"train.csv\"), sep=',')\n",
    "pet_ids = train[\"PetID\"]\n",
    "\n",
    "selected_columns = [\"Type\",\n",
    "                    \"Gender\",\n",
    "                    \"Color1\",\n",
    "                    \"Color2\",\n",
    "                    \"Color3\",\n",
    "                    \"MaturitySize\",\n",
    "                    \"FurLength\",\n",
    "                    \"Vaccinated\",\n",
    "                    \"Dewormed\",\n",
    "                    \"Sterilized\",\n",
    "                    \"Health\",\n",
    "                    \"State\",\n",
    "                    \"MaturitySize\"]\n",
    "\n",
    "\n",
    "\n",
    "\n",
    "y = train[label_column]\n",
    "\n",
    "# One-Hot-encode\n",
    "X = pd.get_dummies(train[selected_columns], columns=selected_columns)\n",
    "\n",
    "# Normalize:\n",
    "to_normalize = [\"Age\", \"Fee\", \"Quantity\"]\n",
    "for to_norm in to_normalize:\n",
    "     X[to_norm] = (train[to_norm] - train[to_norm].mean()) / train[to_norm].std()"
   ]
  },
  {
   "cell_type": "code",
   "execution_count": 4,
   "metadata": {
    "pycharm": {}
   },
   "outputs": [
    {
     "name": "stdout",
     "output_type": "stream",
     "text": [
      "(14993, 100, 100, 3)\n"
     ]
    }
   ],
   "source": [
    "f_im_name = \"images.binary\"\n",
    "\n",
    "if not os.path.isfile(f_im_name):\n",
    "    \n",
    "    image_paths = [os.path.join(data_dir, data_image, pet_id + \"-1.jpg\") for pet_id in pet_ids]\n",
    "\n",
    "    images = []\n",
    "\n",
    "    for path in tqdm(image_paths):\n",
    "        if os.path.isfile(path):\n",
    "            image = Image.open(path).convert(\"RGB\") \n",
    "            image.load()\n",
    "            image = np.asarray(image, dtype=\"int32\" )\n",
    "            image = resize(image, (height, width), anti_aliasing=True, mode='constant')\n",
    "        else:\n",
    "            image = np.random.rand(height, width, 3) * 255\n",
    "        \n",
    "        images.append(image)\n",
    "    \n",
    "    images = np.array(images)\n",
    "\n",
    "    # Standardize:\n",
    "    mean = np.mean(images)\n",
    "    std = np.std(images)\n",
    "\n",
    "    images_meanstd = (images - mean)/std\n",
    "    with open(f_im_name, 'wb') as handle:\n",
    "        pickle.dump(images_meanstd, handle, protocol=pickle.HIGHEST_PROTOCOL)\n",
    "else:\n",
    "    with open(f_im_name, 'rb') as handle:\n",
    "        images_meanstd = pickle.load(handle)\n",
    "\n",
    "print(images_meanstd.shape)"
   ]
  },
  {
   "cell_type": "code",
   "execution_count": 5,
   "metadata": {
    "pycharm": {}
   },
   "outputs": [],
   "source": [
    "X_train_img, X_test_img, X_train_else, X_test_else, y_train, y_test = train_test_split(images_meanstd, \n",
    "                                                                                       X, \n",
    "                                                                                       y, \n",
    "                                                                                       test_size=test_size,\n",
    "                                                                                       random_state=1)"
   ]
  },
  {
   "cell_type": "code",
   "execution_count": 14,
   "metadata": {
    "pycharm": {
     "is_executing": false,
     "metadata": false,
     "name": "#%%\n"
    }
   },
   "outputs": [
    {
     "name": "stdout",
     "output_type": "stream",
     "text": [
      "Train on 10794 samples, validate on 1200 samples\n",
      "Epoch 1/5\n",
      "10794/10794 [==============================] - ETA: 23:38 - loss: 1.6741 - acc: 0.22 - ETA: 21:40 - loss: 1.6057 - acc: 0.24 - ETA: 20:35 - loss: 1.6381 - acc: 0.24 - ETA: 19:01 - loss: 1.6103 - acc: 0.26 - ETA: 18:38 - loss: 1.5881 - acc: 0.27 - ETA: 17:37 - loss: 1.5796 - acc: 0.27 - ETA: 16:03 - loss: 1.5734 - acc: 0.27 - ETA: 14:36 - loss: 1.5754 - acc: 0.28 - ETA: 13:16 - loss: 1.5699 - acc: 0.28 - ETA: 12:00 - loss: 1.5635 - acc: 0.28 - ETA: 10:49 - loss: 1.5611 - acc: 0.29 - ETA: 9:40 - loss: 1.5554 - acc: 0.2969 - ETA: 8:32 - loss: 1.5482 - acc: 0.301 - ETA: 7:25 - loss: 1.5475 - acc: 0.304 - ETA: 6:20 - loss: 1.5426 - acc: 0.307 - ETA: 5:16 - loss: 1.5401 - acc: 0.309 - ETA: 4:13 - loss: 1.5395 - acc: 0.311 - ETA: 3:10 - loss: 1.5351 - acc: 0.313 - ETA: 2:08 - loss: 1.5359 - acc: 0.316 - ETA: 1:06 - loss: 1.5340 - acc: 0.318 - ETA: 5s - loss: 1.5321 - acc: 0.3202  - 1410s 131ms/step - loss: 1.5358 - acc: 0.3200 - val_loss: 1.4551 - val_acc: 0.3392\n",
      "Epoch 2/5\n",
      "10794/10794 [==============================] - ETA: 19:16 - loss: 1.4995 - acc: 0.32 - ETA: 18:11 - loss: 1.4648 - acc: 0.32 - ETA: 17:21 - loss: 1.4611 - acc: 0.33 - ETA: 16:18 - loss: 1.4497 - acc: 0.34 - ETA: 15:12 - loss: 1.4413 - acc: 0.35 - ETA: 14:08 - loss: 1.4354 - acc: 0.35 - ETA: 13:08 - loss: 1.4304 - acc: 0.35 - ETA: 12:08 - loss: 1.4287 - acc: 0.35 - ETA: 11:11 - loss: 1.4269 - acc: 0.34 - ETA: 10:14 - loss: 1.4293 - acc: 0.34 - ETA: 9:17 - loss: 1.4260 - acc: 0.3510 - ETA: 8:21 - loss: 1.4271 - acc: 0.350 - ETA: 7:25 - loss: 1.4261 - acc: 0.351 - ETA: 6:30 - loss: 1.4242 - acc: 0.348 - ETA: 5:34 - loss: 1.4236 - acc: 0.351 - ETA: 4:39 - loss: 1.4226 - acc: 0.353 - ETA: 3:44 - loss: 1.4235 - acc: 0.353 - ETA: 2:49 - loss: 1.4221 - acc: 0.354 - ETA: 1:54 - loss: 1.4204 - acc: 0.355 - ETA: 59s - loss: 1.4188 - acc: 0.355 - ETA: 4s - loss: 1.4183 - acc: 0.3537 - 1269s 118ms/step - loss: 1.4190 - acc: 0.3533 - val_loss: 1.4194 - val_acc: 0.3400\n",
      "Epoch 3/5\n",
      "10794/10794 [==============================] - ETA: 17:50 - loss: 1.3623 - acc: 0.36 - ETA: 17:10 - loss: 1.3864 - acc: 0.33 - ETA: 16:16 - loss: 1.3804 - acc: 0.35 - ETA: 15:23 - loss: 1.3854 - acc: 0.34 - ETA: 14:27 - loss: 1.3854 - acc: 0.34 - ETA: 13:34 - loss: 1.3911 - acc: 0.35 - ETA: 12:40 - loss: 1.3855 - acc: 0.36 - ETA: 11:47 - loss: 1.3875 - acc: 0.36 - ETA: 10:52 - loss: 1.3881 - acc: 0.36 - ETA: 9:58 - loss: 1.3866 - acc: 0.3643 - ETA: 9:04 - loss: 1.3876 - acc: 0.364 - ETA: 8:10 - loss: 1.3888 - acc: 0.365 - ETA: 7:17 - loss: 1.3898 - acc: 0.365 - ETA: 6:23 - loss: 1.3892 - acc: 0.366 - ETA: 5:29 - loss: 1.3877 - acc: 0.369 - ETA: 4:34 - loss: 1.3894 - acc: 0.366 - ETA: 3:40 - loss: 1.3904 - acc: 0.368 - ETA: 2:46 - loss: 1.3896 - acc: 0.367 - ETA: 1:52 - loss: 1.3910 - acc: 0.366 - ETA: 58s - loss: 1.3909 - acc: 0.366 - ETA: 4s - loss: 1.3901 - acc: 0.3666 - 1256s 116ms/step - loss: 1.3944 - acc: 0.3665 - val_loss: 1.3949 - val_acc: 0.3692\n",
      "Epoch 4/5\n",
      "10794/10794 [==============================] - ETA: 18:43 - loss: 1.3570 - acc: 0.35 - ETA: 17:35 - loss: 1.3583 - acc: 0.37 - ETA: 16:34 - loss: 1.3528 - acc: 0.38 - ETA: 15:33 - loss: 1.3593 - acc: 0.38 - ETA: 14:38 - loss: 1.3655 - acc: 0.37 - ETA: 13:40 - loss: 1.3642 - acc: 0.37 - ETA: 12:46 - loss: 1.3625 - acc: 0.38 - ETA: 11:51 - loss: 1.3638 - acc: 0.38 - ETA: 10:55 - loss: 1.3640 - acc: 0.38 - ETA: 10:01 - loss: 1.3635 - acc: 0.38 - ETA: 9:06 - loss: 1.3646 - acc: 0.3846 - ETA: 8:12 - loss: 1.3649 - acc: 0.382 - ETA: 7:18 - loss: 1.3656 - acc: 0.383 - ETA: 6:24 - loss: 1.3669 - acc: 0.382 - ETA: 5:29 - loss: 1.3658 - acc: 0.382 - ETA: 4:35 - loss: 1.3676 - acc: 0.381 - ETA: 3:41 - loss: 1.3665 - acc: 0.382 - ETA: 2:47 - loss: 1.3680 - acc: 0.381 - ETA: 1:52 - loss: 1.3668 - acc: 0.383 - ETA: 58s - loss: 1.3674 - acc: 0.382 - ETA: 4s - loss: 1.3648 - acc: 0.3841 - 1255s 116ms/step - loss: 1.3646 - acc: 0.3845 - val_loss: 1.3896 - val_acc: 0.3758\n",
      "Epoch 5/5\n",
      "10794/10794 [==============================] - ETA: 18:07 - loss: 1.3706 - acc: 0.38 - ETA: 17:18 - loss: 1.3678 - acc: 0.38 - ETA: 16:18 - loss: 1.3651 - acc: 0.39 - ETA: 15:25 - loss: 1.3610 - acc: 0.39 - ETA: 14:29 - loss: 1.3593 - acc: 0.39 - ETA: 13:36 - loss: 1.3609 - acc: 0.39 - ETA: 12:42 - loss: 1.3659 - acc: 0.39 - ETA: 11:47 - loss: 1.3597 - acc: 0.39 - ETA: 10:55 - loss: 1.3608 - acc: 0.39 - ETA: 10:00 - loss: 1.3604 - acc: 0.39 - ETA: 9:07 - loss: 1.3570 - acc: 0.3949 - ETA: 8:12 - loss: 1.3587 - acc: 0.393 - ETA: 7:18 - loss: 1.3579 - acc: 0.393 - ETA: 6:24 - loss: 1.3566 - acc: 0.395 - ETA: 5:29 - loss: 1.3546 - acc: 0.396 - ETA: 4:35 - loss: 1.3538 - acc: 0.396 - ETA: 3:41 - loss: 1.3545 - acc: 0.394 - ETA: 2:46 - loss: 1.3536 - acc: 0.396 - ETA: 1:52 - loss: 1.3533 - acc: 0.395 - ETA: 58s - loss: 1.3522 - acc: 0.395 - ETA: 4s - loss: 1.3520 - acc: 0.3947 - 1255s 116ms/step - loss: 1.3527 - acc: 0.3944 - val_loss: 1.4154 - val_acc: 0.3633\n"
     ]
    }
   ],
   "source": [
    "# https://stackoverflow.com/questions/49618986/neural-network-in-keras-with-two-different-input-types-images-and-values\n",
    "# https://www.learnopencv.com/keras-tutorial-transfer-learning-using-pre-trained-models/\n",
    "\n",
    "transfer = Xception(weights='imagenet', include_top=False, input_shape=(height, width, 3))\n",
    "\n",
    "# Freeze Xception\n",
    "for layer in transfer.layers[:-3]:\n",
    "    layer.trainable = False\n",
    "\n",
    "# Inputs\n",
    "image_input = Input(shape=(height, width, 3))\n",
    "aux_input = Input(shape=(len(list(X_train_else)),))\n",
    "\n",
    "# Images:\n",
    "transfer = transfer(image_input)\n",
    "transfer = Dense(150, activation='relu')(transfer)\n",
    "flatten = Flatten()(transfer)\n",
    "\n",
    "# Aux input:\n",
    "x = Dense(150, activation='relu')(aux_input)\n",
    "x = Dense(250, activation='relu')(x)\n",
    "x = Dense(350, activation='relu')(x)\n",
    "\n",
    "# Merged:\n",
    "merge = concatenate([flatten, x])\n",
    "x = Dense(500)(merge)\n",
    "x = Dense(450, activation='relu')(x)\n",
    "x = Dense(100, activation='relu')(x)\n",
    "h = Dense(5)(x)\n",
    "\n",
    "# Predictions:\n",
    "predictions = Activation('softmax')(h)\n",
    "\n",
    "def kappa(y_true, y_pred):\n",
    "    y_pred = map(lambda x: np.argmax(x), y_pred) \n",
    "    return cohen_kappa_score(y_true, y_pred, weights=\"quadratic\")\n",
    "\n",
    "model = Model(inputs=[image_input, aux_input], outputs=predictions)\n",
    "model.compile(optimizer=Adam(lr=0.001), loss='categorical_crossentropy', metrics=['accuracy'])\n",
    "\n",
    "\n",
    "history = model.fit([X_train_img, X_train_else], \n",
    "                    keras.utils.to_categorical(y_train),\n",
    "                    batch_size=BATCH_SIZE, \n",
    "                    epochs=5, \n",
    "                    validation_split=0.1)"
   ]
  },
  {
   "cell_type": "code",
   "execution_count": 15,
   "metadata": {
    "pycharm": {}
   },
   "outputs": [],
   "source": [
    "train_pred = [np.argmax(pred) for pred in model.predict([X_train_img, X_train_else])]\n",
    "test_predictions = [np.argmax(pred) for pred in model.predict([X_test_img, X_test_else])]"
   ]
  },
  {
   "cell_type": "code",
   "execution_count": 16,
   "metadata": {
    "pycharm": {}
   },
   "outputs": [
    {
     "name": "stdout",
     "output_type": "stream",
     "text": [
      "Kappa on train: 0.3394\n",
      "Accuracy on train: 0.3977\n",
      "________________\n",
      "Kappa on test: 0.2664\n",
      "Accuracy on test: 0.3558\n"
     ]
    }
   ],
   "source": [
    "print(\"Kappa on train: {}\".format(round(cohen_kappa_score(y_train, train_pred, weights=\"quadratic\"), 4)))\n",
    "print(\"Accuracy on train: {}\".format(round(accuracy_score(y_train, train_pred), 4)))\n",
    "print(\"________________\")\n",
    "print(\"Kappa on test: {}\".format(round(cohen_kappa_score(y_test, test_predictions, weights=\"quadratic\"), 4)))\n",
    "print(\"Accuracy on test: {}\".format(round(accuracy_score(y_test, test_predictions), 4)))"
   ]
  },
  {
   "cell_type": "code",
   "execution_count": 9,
   "metadata": {
    "pycharm": {}
   },
   "outputs": [],
   "source": [
    "model.save('test_model.h5')"
   ]
  }
 ],
 "metadata": {
  "kernelspec": {
   "display_name": "PyCharm (PetFinderNN)",
   "language": "python",
   "name": "pycharm-b185692d"
  },
  "language_info": {
   "codemirror_mode": {
    "name": "ipython",
    "version": 3
   },
   "file_extension": ".py",
   "mimetype": "text/x-python",
   "name": "python",
   "nbconvert_exporter": "python",
   "pygments_lexer": "ipython3",
   "version": "3.6.7"
  }
 },
 "nbformat": 4,
 "nbformat_minor": 1
}
