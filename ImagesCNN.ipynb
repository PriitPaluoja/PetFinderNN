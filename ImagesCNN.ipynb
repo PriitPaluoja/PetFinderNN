{
 "cells": [
  {
   "cell_type": "markdown",
   "metadata": {},
   "source": [
    "# PetFinder.my"
   ]
  },
  {
   "cell_type": "code",
   "execution_count": 1,
   "metadata": {
    "pycharm": {
     "is_executing": false
    }
   },
   "outputs": [
    {
     "name": "stderr",
     "output_type": "stream",
     "text": [
      "Using TensorFlow backend.\n"
     ]
    }
   ],
   "source": [
    "import json\n",
    "import os\n",
    "import pickle\n",
    "\n",
    "import keras.utils\n",
    "import matplotlib.pyplot as plt\n",
    "import numpy as np\n",
    "import pandas as pd\n",
    "from PIL import Image\n",
    "from keras.applications import Xception\n",
    "from keras.callbacks import ModelCheckpoint\n",
    "from keras.layers import Input, Activation, Flatten, Dense\n",
    "from keras.layers import (concatenate)\n",
    "from keras.models import Model\n",
    "from keras.models import load_model\n",
    "from keras.optimizers import Adam\n",
    "from skimage.transform import resize\n",
    "from sklearn.ensemble import RandomForestClassifier\n",
    "from sklearn.metrics import accuracy_score, cohen_kappa_score\n",
    "from sklearn.model_selection import train_test_split\n",
    "from tqdm import tqdm\n",
    "%matplotlib inline\n",
    "\n",
    "data_dir = \"C:\\\\Users\\\\Priit\\\\Dropbox\\\\Informaatika\\\\Magister\\\\Tehisnärvivõrgud\\\\data\"\n",
    "\n",
    "sentiment_train_dir =  os.path.join(data_dir, \"train_sentiment\") \n",
    "sentiment_test_dir =  os.path.join(data_dir, \"test_sentiment\") \n",
    "\n",
    "train_image = os.path.join(data_dir, \"train_images\")\n",
    "test_image = os.path.join(data_dir, \"test_images\")\n",
    "\n",
    "label_column = \"AdoptionSpeed\"\n",
    "\n",
    "BATCH_SIZE, test_size = 512, 0.2\n",
    "\n",
    "height, width = 100, 100"
   ]
  },
  {
   "cell_type": "markdown",
   "metadata": {},
   "source": [
    "# Data processing\n",
    "### Helper functions for data processing"
   ]
  },
  {
   "cell_type": "code",
   "execution_count": 2,
   "metadata": {
    "pycharm": {}
   },
   "outputs": [],
   "source": [
    "def read_csv_kaggle(path, is_train, train_data=None):\n",
    "    train = pd.read_csv(path, sep=',')\n",
    "    pet_ids = train[\"PetID\"]\n",
    "\n",
    "    selected_columns = [\"Type\",\n",
    "                        \"Gender\",\n",
    "                        \"Color1\",\n",
    "                        \"Color2\",\n",
    "                        \"Color3\",\n",
    "                        \"MaturitySize\",\n",
    "                        \"FurLength\",\n",
    "                        \"Vaccinated\",\n",
    "                        \"Dewormed\",\n",
    "                        \"Sterilized\",\n",
    "                        \"Health\",\n",
    "                        #\"State\",\n",
    "                        \"MaturitySize\"]\n",
    "    \n",
    "    y = train[label_column] if is_train else None\n",
    "    \n",
    "    # One-Hot-encode\n",
    "    X = pd.get_dummies(train[selected_columns], columns=selected_columns)\n",
    "\n",
    "    # Normalize:\n",
    "    to_normalize = [\"Age\", \"Fee\", \"Quantity\", \"PhotoAmt\"]\n",
    "    \n",
    "    if is_train:\n",
    "        for to_norm in to_normalize:\n",
    "             X[to_norm] = (train[to_norm] - train[to_norm].mean()) / train[to_norm].std()\n",
    "    else:\n",
    "        train_data = pd.read_csv(train_data, sep=',')\n",
    "        for to_norm in to_normalize:\n",
    "             X[to_norm] = (train[to_norm] - train_data[to_norm].mean()) / train_data[to_norm].std()\n",
    "        \n",
    "    \n",
    "    return X, y, pet_ids\n",
    "\n",
    "def read_images(image_paths):\n",
    "    def random_image():\n",
    "        return np.random.rand(height, width, 3) * 255\n",
    "    \n",
    "    def read_image(path):\n",
    "        img = np.asarray(Image.open(path).convert(\"RGB\"), dtype=\"int32\" )\n",
    "        return resize(img, (height, width), anti_aliasing=True, mode='constant')    \n",
    "\n",
    "    return np.array([read_image(path) if os.path.isfile(path) else random_image() for path in tqdm(image_paths)])\n",
    "\n",
    "def read_sentiment(pet_ids, sentiment_paths):\n",
    "    magnitudes, scores = [], []\n",
    "    \n",
    "    for pet_id in tqdm(pet_ids):\n",
    "        file_loc = os.path.join(sentiment_paths, \"{}.json\".format(pet_id))\n",
    "        # check if there exists sentiment analysis for the pet, else set scores 0.0\n",
    "        if os.path.isfile(file_loc):\n",
    "            with open(file_loc, encoding=\"UTF-8\", mode=\"r\") as json_file:  \n",
    "                data = json.load(json_file)\n",
    "                magnitude,score = data[\"documentSentiment\"][\"magnitude\"], data[\"documentSentiment\"][\"score\"]\n",
    "        else:\n",
    "            magnitude, score = 0.0, 0.0\n",
    "    \n",
    "        magnitudes.append(magnitude)\n",
    "        scores.append(score)\n",
    "    return magnitudes, scores\n",
    "    "
   ]
  },
  {
   "cell_type": "markdown",
   "metadata": {},
   "source": [
    "### Read training CSV"
   ]
  },
  {
   "cell_type": "code",
   "execution_count": 3,
   "metadata": {
    "pycharm": {}
   },
   "outputs": [
    {
     "name": "stderr",
     "output_type": "stream",
     "text": [
      "100%|███████████████████████████████████████████████████████████████████████████| 14993/14993 [00:21<00:00, 697.24it/s]\n"
     ]
    }
   ],
   "source": [
    "X, y, pet_ids = read_csv_kaggle(os.path.join(data_dir, \"train.csv\"), True)\n",
    "X[\"sent_magnitude\"], X[\"sent_score\"] = read_sentiment(pet_ids, sentiment_train_dir)"
   ]
  },
  {
   "cell_type": "markdown",
   "metadata": {},
   "source": [
    "### Read training images"
   ]
  },
  {
   "cell_type": "code",
   "execution_count": 4,
   "metadata": {
    "pycharm": {}
   },
   "outputs": [
    {
     "name": "stdout",
     "output_type": "stream",
     "text": [
      "(14993, 100, 100, 3)\n"
     ]
    }
   ],
   "source": [
    "f_im_name = \"images.binary\"\n",
    "\n",
    "if not os.path.isfile(f_im_name):\n",
    "    images = read_images([os.path.join(train_image, pet_id + \"-1.jpg\") for pet_id in pet_ids])\n",
    "    \n",
    "    # Standardize:\n",
    "    mean, std = np.mean(images), np.std(images)\n",
    "    images_meanstd = (images - mean)/std\n",
    "    \n",
    "    with open(f_im_name, 'wb') as handle_1, open(\"mnstd\", 'wb') as handle_2:\n",
    "        pickle.dump(images_meanstd, handle_1, protocol=pickle.HIGHEST_PROTOCOL)        \n",
    "        pickle.dump((mean, std), handle_2, protocol=pickle.HIGHEST_PROTOCOL)\n",
    "\n",
    "else:\n",
    "    with open(f_im_name, 'rb') as handle_1, open(\"mnstd\", 'rb') as handle_2:\n",
    "        images_meanstd = pickle.load(handle_1)\n",
    "        temp = pickle.load(handle_2)\n",
    "        mean, std = temp[0], temp[1]\n",
    "                \n",
    "print(images_meanstd.shape)"
   ]
  },
  {
   "cell_type": "markdown",
   "metadata": {},
   "source": [
    "### Split traint/test"
   ]
  },
  {
   "cell_type": "code",
   "execution_count": 5,
   "metadata": {
    "pycharm": {}
   },
   "outputs": [],
   "source": [
    "X_train_img, X_test_img, X_train_else, X_test_else, y_train, y_test = train_test_split(images_meanstd, \n",
    "                                                                                       X, \n",
    "                                                                                       y, \n",
    "                                                                                       test_size=test_size,\n",
    "                                                                                       random_state=1)"
   ]
  },
  {
   "cell_type": "markdown",
   "metadata": {},
   "source": [
    "# Create & train models"
   ]
  },
  {
   "cell_type": "markdown",
   "metadata": {},
   "source": [
    "### Baseline model"
   ]
  },
  {
   "cell_type": "code",
   "execution_count": 6,
   "metadata": {},
   "outputs": [
    {
     "data": {
      "text/plain": [
       "RandomForestClassifier(bootstrap=True, class_weight=None, criterion='gini',\n",
       "            max_depth=15, max_features='auto', max_leaf_nodes=None,\n",
       "            min_impurity_decrease=0.0, min_impurity_split=None,\n",
       "            min_samples_leaf=1, min_samples_split=2,\n",
       "            min_weight_fraction_leaf=0.0, n_estimators=65, n_jobs=None,\n",
       "            oob_score=False, random_state=None, verbose=0,\n",
       "            warm_start=False)"
      ]
     },
     "execution_count": 6,
     "metadata": {},
     "output_type": "execute_result"
    }
   ],
   "source": [
    "rf = RandomForestClassifier(n_estimators=65, max_depth=15)\n",
    "rf.fit(X_train_else, y_train)"
   ]
  },
  {
   "cell_type": "markdown",
   "metadata": {},
   "source": [
    "### Neural Net solution"
   ]
  },
  {
   "cell_type": "code",
   "execution_count": 7,
   "metadata": {
    "pycharm": {
     "is_executing": false,
     "metadata": false,
     "name": "#%%\n"
    }
   },
   "outputs": [
    {
     "name": "stdout",
     "output_type": "stream",
     "text": [
      "WARNING:tensorflow:From C:\\Users\\Priit\\Anaconda3\\lib\\site-packages\\tensorflow\\python\\framework\\op_def_library.py:263: colocate_with (from tensorflow.python.framework.ops) is deprecated and will be removed in a future version.\n",
      "Instructions for updating:\n",
      "Colocations handled automatically by placer.\n",
      "WARNING:tensorflow:From C:\\Users\\Priit\\Anaconda3\\lib\\site-packages\\tensorflow\\python\\ops\\math_ops.py:3066: to_int32 (from tensorflow.python.ops.math_ops) is deprecated and will be removed in a future version.\n",
      "Instructions for updating:\n",
      "Use tf.cast instead.\n",
      "Train on 10794 samples, validate on 1200 samples\n",
      "Epoch 1/4\n",
      "10794/10794 [==============================] - ETA: 34:07 - loss: 1.6176 - acc: 0.15 - ETA: 30:42 - loss: 1.6414 - acc: 0.19 - ETA: 28:35 - loss: 1.6548 - acc: 0.20 - ETA: 26:54 - loss: 1.6640 - acc: 0.22 - ETA: 25:09 - loss: 1.6516 - acc: 0.23 - ETA: 23:31 - loss: 1.6615 - acc: 0.24 - ETA: 21:51 - loss: 1.6407 - acc: 0.24 - ETA: 20:14 - loss: 1.6273 - acc: 0.25 - ETA: 18:44 - loss: 1.6150 - acc: 0.26 - ETA: 17:12 - loss: 1.6105 - acc: 0.26 - ETA: 15:38 - loss: 1.6053 - acc: 0.26 - ETA: 14:05 - loss: 1.6113 - acc: 0.26 - ETA: 12:31 - loss: 1.6071 - acc: 0.26 - ETA: 10:59 - loss: 1.6001 - acc: 0.27 - ETA: 9:25 - loss: 1.6029 - acc: 0.2755 - ETA: 7:52 - loss: 1.6003 - acc: 0.279 - ETA: 6:18 - loss: 1.5921 - acc: 0.281 - ETA: 4:46 - loss: 1.5937 - acc: 0.284 - ETA: 3:13 - loss: 1.5961 - acc: 0.287 - ETA: 1:40 - loss: 1.5913 - acc: 0.292 - ETA: 7s - loss: 1.5861 - acc: 0.2949  - 2171s 201ms/step - loss: 1.5849 - acc: 0.2954 - val_loss: 1.5942 - val_acc: 0.3308\n",
      "Epoch 2/4\n",
      "10794/10794 [==============================] - ETA: 34:42 - loss: 1.7448 - acc: 0.29 - ETA: 31:07 - loss: 1.5943 - acc: 0.30 - ETA: 28:59 - loss: 1.5845 - acc: 0.31 - ETA: 27:04 - loss: 1.5819 - acc: 0.32 - ETA: 25:19 - loss: 1.5622 - acc: 0.33 - ETA: 23:41 - loss: 1.5709 - acc: 0.33 - ETA: 22:00 - loss: 1.5725 - acc: 0.33 - ETA: 20:25 - loss: 1.5639 - acc: 0.33 - ETA: 1:18:24 - loss: 1.5528 - acc: 0.33 - ETA: 1:05:57 - loss: 1.5425 - acc: 0.33 - ETA: 55:25 - loss: 1.5417 - acc: 0.3343 - ETA: 46:28 - loss: 1.5406 - acc: 0.33 - ETA: 38:46 - loss: 1.5368 - acc: 0.33 - ETA: 32:02 - loss: 1.5404 - acc: 0.33 - ETA: 26:03 - loss: 1.5381 - acc: 0.33 - ETA: 20:42 - loss: 1.5339 - acc: 0.33 - ETA: 15:53 - loss: 1.5350 - acc: 0.34 - ETA: 11:29 - loss: 1.5258 - acc: 0.34 - ETA: 7:27 - loss: 1.5222 - acc: 0.3425 - ETA: 3:43 - loss: 1.5157 - acc: 0.343 - ETA: 16s - loss: 1.5158 - acc: 0.343 - 4321s 400ms/step - loss: 1.5502 - acc: 0.3432 - val_loss: 1.5684 - val_acc: 0.3642\n",
      "Epoch 3/4\n",
      "10794/10794 [==============================] - ETA: 20:50 - loss: 1.5591 - acc: 0.37 - ETA: 19:14 - loss: 1.5637 - acc: 0.37 - ETA: 17:45 - loss: 1.5655 - acc: 0.37 - ETA: 16:33 - loss: 1.5666 - acc: 0.36 - ETA: 15:34 - loss: 1.5456 - acc: 0.37 - ETA: 14:31 - loss: 1.5293 - acc: 0.37 - ETA: 13:32 - loss: 1.5174 - acc: 0.37 - ETA: 12:31 - loss: 1.5097 - acc: 0.37 - ETA: 11:32 - loss: 1.5055 - acc: 0.37 - ETA: 10:33 - loss: 1.5065 - acc: 0.37 - ETA: 9:35 - loss: 1.5044 - acc: 0.3686 - ETA: 8:37 - loss: 1.5049 - acc: 0.367 - ETA: 7:39 - loss: 1.5010 - acc: 0.367 - ETA: 6:42 - loss: 1.5028 - acc: 0.365 - ETA: 5:44 - loss: 1.5087 - acc: 0.362 - ETA: 4:48 - loss: 1.5015 - acc: 0.362 - ETA: 3:51 - loss: 1.4983 - acc: 0.363 - ETA: 2:54 - loss: 1.4955 - acc: 0.365 - ETA: 1:57 - loss: 1.4992 - acc: 0.367 - ETA: 1:01 - loss: 1.4971 - acc: 0.368 - ETA: 4s - loss: 1.4939 - acc: 0.3699  - 1306s 121ms/step - loss: 1.5328 - acc: 0.3696 - val_loss: 1.5432 - val_acc: 0.3808\n",
      "Epoch 4/4\n",
      "10794/10794 [==============================] - ETA: 20:06 - loss: 1.5019 - acc: 0.37 - ETA: 18:04 - loss: 1.5105 - acc: 0.38 - ETA: 16:47 - loss: 1.5035 - acc: 0.38 - ETA: 15:42 - loss: 1.4942 - acc: 0.38 - ETA: 14:41 - loss: 1.4969 - acc: 0.38 - ETA: 13:44 - loss: 1.4969 - acc: 0.38 - ETA: 12:49 - loss: 1.4944 - acc: 0.38 - ETA: 11:52 - loss: 1.4878 - acc: 0.38 - ETA: 10:56 - loss: 1.4820 - acc: 0.37 - ETA: 10:01 - loss: 1.4820 - acc: 0.37 - ETA: 9:05 - loss: 1.4890 - acc: 0.3825 - ETA: 8:11 - loss: 1.4918 - acc: 0.380 - ETA: 7:17 - loss: 1.4887 - acc: 0.380 - ETA: 6:23 - loss: 1.4877 - acc: 0.383 - ETA: 5:28 - loss: 1.4845 - acc: 0.385 - ETA: 4:35 - loss: 1.4792 - acc: 0.385 - ETA: 3:43 - loss: 1.4792 - acc: 0.384 - ETA: 2:49 - loss: 1.4783 - acc: 0.382 - ETA: 1:56 - loss: 1.4730 - acc: 0.384 - ETA: 1:00 - loss: 1.4719 - acc: 0.383 - ETA: 4s - loss: 1.4748 - acc: 0.3834  - 1337s 124ms/step - loss: 1.5199 - acc: 0.3826 - val_loss: 1.5477 - val_acc: 0.3667\n"
     ]
    }
   ],
   "source": [
    "# https://stackoverflow.com/questions/49618986/neural-network-in-keras-with-two-different-input-types-images-and-values\n",
    "# https://www.learnopencv.com/keras-tutorial-transfer-learning-using-pre-trained-models/\n",
    "\n",
    "transfer = Xception(weights='imagenet', include_top=False, input_shape=(height, width, 3))\n",
    "\n",
    "# Freeze Xception\n",
    "for layer in transfer.layers[:-3]:\n",
    "    layer.trainable = False\n",
    "\n",
    "# Inputs\n",
    "image_input = Input(shape=(height, width, 3))\n",
    "aux_input = Input(shape=(len(list(X_train_else)),))\n",
    "\n",
    "# Images:\n",
    "transfer = transfer(image_input)\n",
    "flatten = Flatten()(transfer)\n",
    "\n",
    "# Aux input:\n",
    "x = Dense(250, activation='relu')(aux_input)\n",
    "x = Dense(350, activation='relu')(x)\n",
    "x = Dense(450, activation='relu')(x)\n",
    "x = Dense(700, activation='relu')(x)\n",
    "\n",
    "# Merged:\n",
    "merge = concatenate([flatten, x])\n",
    "x = Dense(100, activation='relu')(merge)\n",
    "h = Dense(5, activation='relu')(x)\n",
    "\n",
    "# Predictions:\n",
    "predictions = Activation('softmax')(h)\n",
    "\n",
    "model = Model(inputs=[image_input, aux_input], outputs=predictions)\n",
    "model.compile(optimizer=Adam(lr=0.001), loss='categorical_crossentropy', metrics=['accuracy'])\n",
    "\n",
    "\n",
    "history = model.fit([X_train_img, X_train_else], \n",
    "                    keras.utils.to_categorical(y_train),\n",
    "                    batch_size=BATCH_SIZE, \n",
    "                    epochs=4, \n",
    "                    validation_split=0.1,\n",
    "                    callbacks=[ModelCheckpoint('test_model.h5', save_best_only=True)])"
   ]
  },
  {
   "cell_type": "code",
   "execution_count": 8,
   "metadata": {},
   "outputs": [
    {
     "data": {
      "text/plain": [
       "Text(0.5, 1.0, 'Accuracy')"
      ]
     },
     "execution_count": 8,
     "metadata": {},
     "output_type": "execute_result"
    },
    {
     "data": {
      "image/png": "[encoded data removed]",
      "text/plain": [
       "<Figure size 1152x432 with 2 Axes>"
      ]
     },
     "metadata": {
      "needs_background": "light"
     },
     "output_type": "display_data"
    }
   ],
   "source": [
    "plt.figure(figsize=(16, 6))\n",
    "\n",
    "plt.subplot(1, 2, 1)\n",
    "plt.plot(history.history['loss'])\n",
    "plt.plot(history.history['val_loss'])\n",
    "plt.xlabel('Epoch')\n",
    "plt.ylabel('Loss')\n",
    "plt.legend(['Training', 'Validation'])\n",
    "plt.title('Loss')\n",
    "\n",
    "plt.subplot(1, 2, 2)\n",
    "plt.plot(history.history['acc'])\n",
    "plt.plot(history.history['val_acc'])\n",
    "plt.xlabel('Epoch')\n",
    "plt.ylabel('Accuracy')\n",
    "plt.legend(['Training', 'Validation'])\n",
    "plt.title('Accuracy')"
   ]
  },
  {
   "cell_type": "markdown",
   "metadata": {},
   "source": [
    "# Evaluate models\n",
    "\n",
    "## Neural Net"
   ]
  },
  {
   "cell_type": "code",
   "execution_count": 9,
   "metadata": {
    "pycharm": {}
   },
   "outputs": [],
   "source": [
    "train_pred = [np.argmax(pred) for pred in model.predict([X_train_img, X_train_else])]\n",
    "test_predictions = [np.argmax(pred) for pred in model.predict([X_test_img, X_test_else])]"
   ]
  },
  {
   "cell_type": "code",
   "execution_count": 10,
   "metadata": {
    "pycharm": {}
   },
   "outputs": [
    {
     "name": "stdout",
     "output_type": "stream",
     "text": [
      "Kappa on train: 0.295\n",
      "Accuracy on train: 0.3864\n",
      "________________\n",
      "Kappa on test: 0.2389\n",
      "Accuracy on test: 0.3521\n"
     ]
    }
   ],
   "source": [
    "print(\"Kappa on train: {}\".format(round(cohen_kappa_score(y_train, train_pred, weights=\"quadratic\"), 4)))\n",
    "print(\"Accuracy on train: {}\".format(round(accuracy_score(y_train, train_pred), 4)))\n",
    "print(\"________________\")\n",
    "print(\"Kappa on test: {}\".format(round(cohen_kappa_score(y_test, test_predictions, weights=\"quadratic\"), 4)))\n",
    "print(\"Accuracy on test: {}\".format(round(accuracy_score(y_test, test_predictions), 4)))"
   ]
  },
  {
   "cell_type": "markdown",
   "metadata": {},
   "source": [
    "## Baseline"
   ]
  },
  {
   "cell_type": "code",
   "execution_count": 11,
   "metadata": {
    "pycharm": {}
   },
   "outputs": [
    {
     "name": "stdout",
     "output_type": "stream",
     "text": [
      "Kappa on train: 0.8177\n",
      "Accuracy on train: 0.8548\n",
      "________________\n",
      "Kappa on test: 0.2746\n",
      "Accuracy on test: 0.3741\n"
     ]
    }
   ],
   "source": [
    "train_pred = [pred for pred in rf.predict(X_train_else)]\n",
    "test_predictions = [pred for pred in rf.predict(X_test_else)]\n",
    "\n",
    "print(\"Kappa on train: {}\".format(round(cohen_kappa_score(y_train, train_pred, weights=\"quadratic\"), 4)))\n",
    "print(\"Accuracy on train: {}\".format(round(accuracy_score(y_train, train_pred), 4)))\n",
    "print(\"________________\")\n",
    "print(\"Kappa on test: {}\".format(round(cohen_kappa_score(y_test, test_predictions, weights=\"quadratic\"), 4)))\n",
    "print(\"Accuracy on test: {}\".format(round(accuracy_score(y_test, test_predictions), 4)))"
   ]
  },
  {
   "cell_type": "markdown",
   "metadata": {},
   "source": [
    "## Kaggle Test"
   ]
  },
  {
   "cell_type": "code",
   "execution_count": 12,
   "metadata": {
    "pycharm": {}
   },
   "outputs": [
    {
     "name": "stderr",
     "output_type": "stream",
     "text": [
      "100%|█████████████████████████████████████████████████████████████████████████████| 3972/3972 [00:07<00:00, 514.64it/s]\n",
      "100%|██████████████████████████████████████████████████████████████████████████████| 3972/3972 [01:37<00:00, 40.56it/s]\n"
     ]
    }
   ],
   "source": [
    "test, _, test_pet_ids = read_csv_kaggle(os.path.join(data_dir, \"test.csv\"), False, os.path.join(data_dir, \"train.csv\"))\n",
    "test[\"sent_magnitude\"], test[\"sent_score\"] = read_sentiment(test_pet_ids, sentiment_test_dir)\n",
    "test_images = read_images([os.path.join(test_image, pet_id + \"-1.jpg\") for pet_id in test_pet_ids])\n",
    "test_images_std = (test_images - mean)/std"
   ]
  },
  {
   "cell_type": "markdown",
   "metadata": {
    "pycharm": {}
   },
   "source": [
    "### Neural Net"
   ]
  },
  {
   "cell_type": "code",
   "execution_count": 13,
   "metadata": {
    "pycharm": {}
   },
   "outputs": [],
   "source": [
    "loaded = load_model('test_model.h5')\n",
    "test_pred = loaded.predict([test_images_std, test])\n",
    "test_pred_label = [np.argmax(pred) for pred in test_pred]\n",
    "pd.DataFrame({'PetID': test_pet_ids, 'AdoptionSpeed': test_pred_label}).to_csv('neural.csv', index=False)"
   ]
  },
  {
   "cell_type": "markdown",
   "metadata": {
    "pycharm": {}
   },
   "source": [
    "### Baseline"
   ]
  },
  {
   "cell_type": "code",
   "execution_count": 14,
   "metadata": {
    "pycharm": {}
   },
   "outputs": [],
   "source": [
    "pd.DataFrame({'PetID': test_pet_ids, 'AdoptionSpeed': rf.predict(test)}).to_csv('baseline.csv', index=False)"
   ]
  },
  {
   "cell_type": "code",
   "execution_count": null,
   "metadata": {},
   "outputs": [],
   "source": []
  },
  {
   "cell_type": "code",
   "execution_count": null,
   "metadata": {},
   "outputs": [],
   "source": []
  }
 ],
 "metadata": {
  "kernelspec": {
   "display_name": "PyCharm (PetFinderNN)",
   "language": "python",
   "name": "pycharm-b185692d"
  },
  "language_info": {
   "codemirror_mode": {
    "name": "ipython",
    "version": 3
   },
   "file_extension": ".py",
   "mimetype": "text/x-python",
   "name": "python",
   "nbconvert_exporter": "python",
   "pygments_lexer": "ipython3",
   "version": "3.6.7"
  },
  "pycharm": {
   "stem_cell": {
    "cell_type": "raw",
    "metadata": {
     "collapsed": false
    },
    "source": []
   }
  }
 },
 "nbformat": 4,
 "nbformat_minor": 1
}
