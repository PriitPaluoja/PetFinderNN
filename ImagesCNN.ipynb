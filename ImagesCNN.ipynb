{
 "cells": [
  {
   "cell_type": "markdown",
   "metadata": {},
   "source": [
    "# PetFinder.my"
   ]
  },
  {
   "cell_type": "code",
   "execution_count": 1,
   "metadata": {
    "pycharm": {
     "is_executing": false
    }
   },
   "outputs": [
    {
     "name": "stderr",
     "output_type": "stream",
     "text": [
      "Using TensorFlow backend.\n"
     ]
    }
   ],
   "source": [
    "import json\n",
    "import os\n",
    "import pickle\n",
    "\n",
    "import keras.utils\n",
    "import matplotlib.pyplot as plt\n",
    "import numpy as np\n",
    "import pandas as pd\n",
    "from PIL import Image\n",
    "from keras.applications import Xception\n",
    "from keras.callbacks import ModelCheckpoint\n",
    "from keras.layers import Input, Activation, Flatten, Dense\n",
    "from keras.layers import (concatenate)\n",
    "from keras.models import Model\n",
    "from keras.models import load_model\n",
    "from keras.optimizers import Adam\n",
    "from skimage.transform import resize\n",
    "from sklearn.ensemble import RandomForestClassifier\n",
    "from sklearn.metrics import accuracy_score, cohen_kappa_score\n",
    "from sklearn.model_selection import train_test_split\n",
    "from tqdm import tqdm\n",
    "%matplotlib inline\n",
    "\n",
    "data_dir = \"C:\\\\Users\\\\Priit\\\\Dropbox\\\\Informaatika\\\\Magister\\\\Tehisnärvivõrgud\\\\data\"\n",
    "\n",
    "sentiment_train_dir =  os.path.join(data_dir, \"train_sentiment\") \n",
    "sentiment_test_dir =  os.path.join(data_dir, \"test_sentiment\") \n",
    "\n",
    "train_image = os.path.join(data_dir, \"train_images\")\n",
    "test_image = os.path.join(data_dir, \"test_images\")\n",
    "\n",
    "label_column = \"AdoptionSpeed\"\n",
    "\n",
    "BATCH_SIZE, test_size = 512, 0.2\n",
    "\n",
    "height, width = 100, 100"
   ]
  },
  {
   "cell_type": "markdown",
   "metadata": {},
   "source": [
    "# Data processing\n",
    "### Helper functions for data processing"
   ]
  },
  {
   "cell_type": "code",
   "execution_count": 2,
   "metadata": {
    "pycharm": {}
   },
   "outputs": [],
   "source": [
    "def read_csv_kaggle(path, is_train):\n",
    "    train = pd.read_csv(path, sep=',')\n",
    "    pet_ids = train[\"PetID\"]\n",
    "\n",
    "    selected_columns = [\"Type\",\n",
    "                        \"Gender\",\n",
    "                        \"Color1\",\n",
    "                        \"Color2\",\n",
    "                        \"Color3\",\n",
    "                        \"MaturitySize\",\n",
    "                        \"FurLength\",\n",
    "                        \"Vaccinated\",\n",
    "                        \"Dewormed\",\n",
    "                        \"Sterilized\",\n",
    "                        \"Health\",\n",
    "                        #\"State\",\n",
    "                        \"MaturitySize\"]\n",
    "    \n",
    "    y = train[label_column] if is_train else None\n",
    "    \n",
    "    # One-Hot-encode\n",
    "    X = pd.get_dummies(train[selected_columns], columns=selected_columns)\n",
    "\n",
    "    # Normalize:\n",
    "    to_normalize = [\"Age\", \"Fee\", \"Quantity\"]\n",
    "    for to_norm in to_normalize:\n",
    "         X[to_norm] = (train[to_norm] - train[to_norm].mean()) / train[to_norm].std()\n",
    "    \n",
    "    return X, y, pet_ids\n",
    "\n",
    "def read_images(image_paths):\n",
    "    def random_image():\n",
    "        return np.random.rand(height, width, 3) * 255\n",
    "    \n",
    "    def read_image(path):\n",
    "        img = np.asarray(Image.open(path).convert(\"RGB\"), dtype=\"int32\" )\n",
    "        return resize(img, (height, width), anti_aliasing=True, mode='constant')    \n",
    "\n",
    "    return np.array([read_image(path) if os.path.isfile(path) else random_image() for path in tqdm(image_paths)])\n",
    "\n",
    "def read_sentiment(pet_ids, sentiment_paths):\n",
    "    magnitudes, scores = [], []\n",
    "    \n",
    "    for pet_id in tqdm(pet_ids):\n",
    "        file_loc = os.path.join(sentiment_paths, \"{}.json\".format(pet_id))\n",
    "        # check if there exists sentiment analysis for the pet, else set scores 0.0\n",
    "        if os.path.isfile(file_loc):\n",
    "            with open(file_loc, encoding=\"UTF-8\", mode=\"r\") as json_file:  \n",
    "                data = json.load(json_file)\n",
    "                magnitude,score = data[\"documentSentiment\"][\"magnitude\"], data[\"documentSentiment\"][\"score\"]\n",
    "        else:\n",
    "            magnitude, score = 0.0, 0.0\n",
    "    \n",
    "        magnitudes.append(magnitude)\n",
    "        scores.append(score)\n",
    "    return magnitudes, scores\n",
    "    "
   ]
  },
  {
   "cell_type": "markdown",
   "metadata": {},
   "source": [
    "### Read training CSV"
   ]
  },
  {
   "cell_type": "code",
   "execution_count": 3,
   "metadata": {
    "pycharm": {}
   },
   "outputs": [
    {
     "name": "stderr",
     "output_type": "stream",
     "text": [
      "100%|██████████████████████████████████████████████████████████████████████████| 14993/14993 [00:11<00:00, 1304.45it/s]\n"
     ]
    }
   ],
   "source": [
    "X, y, pet_ids = read_csv_kaggle(os.path.join(data_dir, \"train.csv\"), True)\n",
    "X[\"sent_magnitude\"], X[\"sent_score\"] = read_sentiment(pet_ids, sentiment_train_dir)"
   ]
  },
  {
   "cell_type": "markdown",
   "metadata": {},
   "source": [
    "### Read training images"
   ]
  },
  {
   "cell_type": "code",
   "execution_count": 4,
   "metadata": {
    "pycharm": {}
   },
   "outputs": [
    {
     "name": "stdout",
     "output_type": "stream",
     "text": [
      "(14993, 100, 100, 3)\n"
     ]
    }
   ],
   "source": [
    "f_im_name = \"images.binary\"\n",
    "\n",
    "if not os.path.isfile(f_im_name):\n",
    "    images = read_images([os.path.join(train_image, pet_id + \"-1.jpg\") for pet_id in pet_ids])\n",
    "    \n",
    "    # Standardize:\n",
    "    mean, std = np.mean(images), np.std(images)\n",
    "    images_meanstd = (images - mean)/std\n",
    "    \n",
    "    with open(f_im_name, 'wb') as handle_1, open(\"mnstd\", 'wb') as handle_2:\n",
    "        pickle.dump(images_meanstd, handle_1, protocol=pickle.HIGHEST_PROTOCOL)        \n",
    "        pickle.dump((mean, std), handle_2, protocol=pickle.HIGHEST_PROTOCOL)\n",
    "\n",
    "else:\n",
    "    with open(f_im_name, 'rb') as handle_1, open(\"mnstd\", 'rb') as handle_2:\n",
    "        images_meanstd = pickle.load(handle_1)\n",
    "        temp = pickle.load(handle_2)\n",
    "        mean, std = temp[0], temp[1]\n",
    "                \n",
    "print(images_meanstd.shape)"
   ]
  },
  {
   "cell_type": "markdown",
   "metadata": {},
   "source": [
    "### Split traint/test"
   ]
  },
  {
   "cell_type": "code",
   "execution_count": 5,
   "metadata": {
    "pycharm": {}
   },
   "outputs": [],
   "source": [
    "X_train_img, X_test_img, X_train_else, X_test_else, y_train, y_test = train_test_split(images_meanstd, \n",
    "                                                                                       X, \n",
    "                                                                                       y, \n",
    "                                                                                       test_size=test_size,\n",
    "                                                                                       random_state=1)"
   ]
  },
  {
   "cell_type": "markdown",
   "metadata": {},
   "source": [
    "# Create & train models"
   ]
  },
  {
   "cell_type": "markdown",
   "metadata": {},
   "source": [
    "### Baseline model"
   ]
  },
  {
   "cell_type": "code",
   "execution_count": 6,
   "metadata": {},
   "outputs": [
    {
     "data": {
      "text/plain": [
       "RandomForestClassifier(bootstrap=True, class_weight=None, criterion='gini',\n",
       "            max_depth=15, max_features='auto', max_leaf_nodes=None,\n",
       "            min_impurity_decrease=0.0, min_impurity_split=None,\n",
       "            min_samples_leaf=1, min_samples_split=2,\n",
       "            min_weight_fraction_leaf=0.0, n_estimators=65, n_jobs=None,\n",
       "            oob_score=False, random_state=None, verbose=0,\n",
       "            warm_start=False)"
      ]
     },
     "execution_count": 6,
     "metadata": {},
     "output_type": "execute_result"
    }
   ],
   "source": [
    "rf = RandomForestClassifier(n_estimators=65, max_depth=15)\n",
    "rf.fit(X_train_else, y_train)"
   ]
  },
  {
   "cell_type": "markdown",
   "metadata": {},
   "source": [
    "### Neural Net solution"
   ]
  },
  {
   "cell_type": "code",
   "execution_count": 7,
   "metadata": {
    "pycharm": {
     "is_executing": false,
     "metadata": false,
     "name": "#%%\n"
    }
   },
   "outputs": [
    {
     "name": "stdout",
     "output_type": "stream",
     "text": [
      "WARNING:tensorflow:From C:\\Users\\Priit\\Anaconda3\\lib\\site-packages\\tensorflow\\python\\framework\\op_def_library.py:263: colocate_with (from tensorflow.python.framework.ops) is deprecated and will be removed in a future version.\n",
      "Instructions for updating:\n",
      "Colocations handled automatically by placer.\n",
      "WARNING:tensorflow:From C:\\Users\\Priit\\Anaconda3\\lib\\site-packages\\tensorflow\\python\\ops\\math_ops.py:3066: to_int32 (from tensorflow.python.ops.math_ops) is deprecated and will be removed in a future version.\n",
      "Instructions for updating:\n",
      "Use tf.cast instead.\n",
      "Train on 10794 samples, validate on 1200 samples\n",
      "Epoch 1/10\n",
      "10794/10794 [==============================] - ETA: 23:22 - loss: 1.6371 - acc: 0.27 - ETA: 20:26 - loss: 1.6045 - acc: 0.27 - ETA: 19:06 - loss: 1.6031 - acc: 0.27 - ETA: 18:05 - loss: 1.6120 - acc: 0.26 - ETA: 16:58 - loss: 1.6043 - acc: 0.27 - ETA: 15:39 - loss: 1.6086 - acc: 0.27 - ETA: 14:28 - loss: 1.5971 - acc: 0.28 - ETA: 13:18 - loss: 1.5983 - acc: 0.27 - ETA: 12:14 - loss: 1.6013 - acc: 0.27 - ETA: 11:10 - loss: 1.5936 - acc: 0.26 - ETA: 10:07 - loss: 1.5914 - acc: 0.27 - ETA: 9:04 - loss: 1.5908 - acc: 0.2773 - ETA: 8:03 - loss: 1.5874 - acc: 0.274 - ETA: 7:02 - loss: 1.5798 - acc: 0.282 - ETA: 6:02 - loss: 1.5833 - acc: 0.285 - ETA: 5:02 - loss: 1.5801 - acc: 0.288 - ETA: 4:02 - loss: 1.5751 - acc: 0.291 - ETA: 3:02 - loss: 1.5736 - acc: 0.296 - ETA: 2:03 - loss: 1.5676 - acc: 0.298 - ETA: 1:04 - loss: 1.5686 - acc: 0.301 - ETA: 4s - loss: 1.5662 - acc: 0.3049  - 1367s 127ms/step - loss: 1.5865 - acc: 0.3047 - val_loss: 1.6240 - val_acc: 0.3058\n",
      "Epoch 2/10\n",
      "10794/10794 [==============================] - ETA: 19:55 - loss: 1.5747 - acc: 0.32 - ETA: 18:25 - loss: 1.6353 - acc: 0.30 - ETA: 17:07 - loss: 1.6148 - acc: 0.30 - ETA: 16:01 - loss: 1.6148 - acc: 0.29 - ETA: 14:58 - loss: 1.6233 - acc: 0.29 - ETA: 13:58 - loss: 1.6211 - acc: 0.29 - ETA: 13:01 - loss: 1.6021 - acc: 0.29 - ETA: 12:03 - loss: 1.5948 - acc: 0.29 - ETA: 11:07 - loss: 1.5888 - acc: 0.30 - ETA: 10:11 - loss: 1.5881 - acc: 0.30 - ETA: 9:16 - loss: 1.5888 - acc: 0.3120 - ETA: 8:20 - loss: 1.5825 - acc: 0.316 - ETA: 7:25 - loss: 1.5827 - acc: 0.313 - ETA: 6:30 - loss: 1.5702 - acc: 0.317 - ETA: 5:43 - loss: 1.5722 - acc: 0.315 - ETA: 4:50 - loss: 1.5704 - acc: 0.314 - ETA: 3:57 - loss: 1.5750 - acc: 0.315 - ETA: 3:02 - loss: 1.5696 - acc: 0.318 - ETA: 2:03 - loss: 1.5635 - acc: 0.320 - ETA: 1:05 - loss: 1.5609 - acc: 0.322 - ETA: 4s - loss: 1.5563 - acc: 0.3250  - 1447s 134ms/step - loss: 1.5595 - acc: 0.3249 - val_loss: 1.5876 - val_acc: 0.3442\n",
      "Epoch 3/10\n",
      "10794/10794 [==============================] - ETA: 26:31 - loss: 1.6515 - acc: 0.35 - ETA: 24:35 - loss: 1.6459 - acc: 0.32 - ETA: 23:20 - loss: 1.6133 - acc: 0.33 - ETA: 20:57 - loss: 1.5929 - acc: 0.31 - ETA: 20:36 - loss: 1.5876 - acc: 0.31 - ETA: 19:51 - loss: 1.5652 - acc: 0.32 - ETA: 18:48 - loss: 1.5695 - acc: 0.33 - ETA: 17:26 - loss: 1.5538 - acc: 0.33 - ETA: 16:05 - loss: 1.5417 - acc: 0.34 - ETA: 14:44 - loss: 1.5334 - acc: 0.34 - ETA: 13:23 - loss: 1.5305 - acc: 0.34 - ETA: 12:06 - loss: 1.5347 - acc: 0.34 - ETA: 10:39 - loss: 1.5251 - acc: 0.34 - ETA: 9:13 - loss: 1.5211 - acc: 0.3467 - ETA: 7:51 - loss: 1.5199 - acc: 0.350 - ETA: 6:30 - loss: 1.5142 - acc: 0.350 - ETA: 5:12 - loss: 1.5112 - acc: 0.351 - ETA: 3:54 - loss: 1.5103 - acc: 0.353 - ETA: 2:37 - loss: 1.5146 - acc: 0.355 - ETA: 1:21 - loss: 1.5142 - acc: 0.355 - ETA: 6s - loss: 1.5100 - acc: 0.3570  - 1727s 160ms/step - loss: 1.5297 - acc: 0.3566 - val_loss: 1.5997 - val_acc: 0.3458\n",
      "Epoch 4/10\n",
      "10794/10794 [==============================] - ETA: 22:25 - loss: 1.5327 - acc: 0.34 - ETA: 21:27 - loss: 1.5423 - acc: 0.32 - ETA: 20:50 - loss: 1.5669 - acc: 0.31 - ETA: 19:54 - loss: 1.5667 - acc: 0.31 - ETA: 18:47 - loss: 1.5584 - acc: 0.31 - ETA: 17:34 - loss: 1.5528 - acc: 0.32 - ETA: 16:20 - loss: 1.5528 - acc: 0.32 - ETA: 15:11 - loss: 1.5387 - acc: 0.33 - ETA: 14:02 - loss: 1.5311 - acc: 0.34 - ETA: 12:52 - loss: 1.5357 - acc: 0.34 - ETA: 11:47 - loss: 1.5340 - acc: 0.34 - ETA: 10:41 - loss: 1.5314 - acc: 0.34 - ETA: 9:33 - loss: 1.5269 - acc: 0.3459 - ETA: 8:21 - loss: 1.5279 - acc: 0.345 - ETA: 7:05 - loss: 1.5260 - acc: 0.349 - ETA: 5:51 - loss: 1.5206 - acc: 0.350 - ETA: 4:40 - loss: 1.5254 - acc: 0.351 - ETA: 3:30 - loss: 1.5278 - acc: 0.352 - ETA: 2:21 - loss: 1.5267 - acc: 0.353 - ETA: 1:12 - loss: 1.5267 - acc: 0.354 - ETA: 5s - loss: 1.5225 - acc: 0.3538  - 1547s 143ms/step - loss: 1.5222 - acc: 0.3535 - val_loss: 1.5634 - val_acc: 0.3750\n",
      "Epoch 5/10\n",
      "10794/10794 [==============================] - ETA: 21:31 - loss: 1.5269 - acc: 0.31 - ETA: 19:22 - loss: 1.4986 - acc: 0.33 - ETA: 18:06 - loss: 1.4895 - acc: 0.35 - ETA: 16:58 - loss: 1.4993 - acc: 0.36 - ETA: 15:56 - loss: 1.4892 - acc: 0.36 - ETA: 14:52 - loss: 1.4803 - acc: 0.35 - ETA: 13:50 - loss: 1.4674 - acc: 0.36 - ETA: 12:49 - loss: 1.4541 - acc: 0.36 - ETA: 11:49 - loss: 1.4435 - acc: 0.37 - ETA: 10:48 - loss: 1.4575 - acc: 0.37 - ETA: 9:46 - loss: 1.4654 - acc: 0.3732 - ETA: 8:46 - loss: 1.4716 - acc: 0.370 - ETA: 7:46 - loss: 1.4754 - acc: 0.369 - ETA: 6:47 - loss: 1.4752 - acc: 0.370 - ETA: 5:49 - loss: 1.4739 - acc: 0.371 - ETA: 4:51 - loss: 1.4792 - acc: 0.369 - ETA: 3:53 - loss: 1.4760 - acc: 0.371 - ETA: 2:55 - loss: 1.4790 - acc: 0.371 - ETA: 1:58 - loss: 1.4761 - acc: 0.372 - ETA: 1:01 - loss: 1.4890 - acc: 0.371 - ETA: 4s - loss: 1.4883 - acc: 0.3717  - 1312s 122ms/step - loss: 1.5198 - acc: 0.3718 - val_loss: 1.5586 - val_acc: 0.3683\n",
      "Epoch 6/10\n",
      "10794/10794 [==============================] - ETA: 20:22 - loss: 1.4832 - acc: 0.39 - ETA: 18:26 - loss: 1.4371 - acc: 0.40 - ETA: 17:12 - loss: 1.4307 - acc: 0.39 - ETA: 16:09 - loss: 1.4240 - acc: 0.40 - ETA: 15:06 - loss: 1.4179 - acc: 0.40 - ETA: 14:08 - loss: 1.4249 - acc: 0.39 - ETA: 13:10 - loss: 1.4263 - acc: 0.39 - ETA: 12:13 - loss: 1.4412 - acc: 0.39 - ETA: 11:15 - loss: 1.4405 - acc: 0.39 - ETA: 10:18 - loss: 1.4412 - acc: 0.39 - ETA: 9:21 - loss: 1.4343 - acc: 0.3965 - ETA: 8:25 - loss: 1.4477 - acc: 0.395 - ETA: 7:30 - loss: 1.4552 - acc: 0.391 - ETA: 6:35 - loss: 1.4624 - acc: 0.393 - ETA: 5:38 - loss: 1.4631 - acc: 0.393 - ETA: 4:43 - loss: 1.4631 - acc: 0.395 - ETA: 3:47 - loss: 1.4614 - acc: 0.393 - ETA: 2:51 - loss: 1.4615 - acc: 0.391 - ETA: 1:55 - loss: 1.4602 - acc: 0.390 - ETA: 1:00 - loss: 1.4648 - acc: 0.389 - ETA: 4s - loss: 1.4634 - acc: 0.3889  - 1290s 120ms/step - loss: 1.4644 - acc: 0.3885 - val_loss: 1.5547 - val_acc: 0.3892\n",
      "Epoch 7/10\n",
      "10794/10794 [==============================] - ETA: 20:29 - loss: 1.4801 - acc: 0.39 - ETA: 18:34 - loss: 1.4311 - acc: 0.39 - ETA: 17:12 - loss: 1.4753 - acc: 0.38 - ETA: 16:08 - loss: 1.4809 - acc: 0.39 - ETA: 15:05 - loss: 1.4831 - acc: 0.40 - ETA: 14:07 - loss: 1.4659 - acc: 0.40 - ETA: 13:08 - loss: 1.4926 - acc: 0.39 - ETA: 12:10 - loss: 1.4826 - acc: 0.39 - ETA: 11:14 - loss: 1.4759 - acc: 0.39 - ETA: 10:17 - loss: 1.4678 - acc: 0.39 - ETA: 9:21 - loss: 1.4641 - acc: 0.3944 - ETA: 8:26 - loss: 1.4677 - acc: 0.392 - ETA: 7:30 - loss: 1.4646 - acc: 0.394 - ETA: 6:34 - loss: 1.4629 - acc: 0.395 - ETA: 5:38 - loss: 1.4611 - acc: 0.397 - ETA: 4:42 - loss: 1.4581 - acc: 0.397 - ETA: 3:46 - loss: 1.4556 - acc: 0.399 - ETA: 2:51 - loss: 1.4559 - acc: 0.398 - ETA: 1:55 - loss: 1.4550 - acc: 0.396 - ETA: 1:00 - loss: 1.4542 - acc: 0.395 - ETA: 4s - loss: 1.4545 - acc: 0.3952  - 1286s 119ms/step - loss: 1.4543 - acc: 0.3949 - val_loss: 1.5590 - val_acc: 0.3808\n",
      "Epoch 8/10\n"
     ]
    },
    {
     "name": "stdout",
     "output_type": "stream",
     "text": [
      "10794/10794 [==============================] - ETA: 18:22 - loss: 1.5343 - acc: 0.36 - ETA: 17:27 - loss: 1.4658 - acc: 0.36 - ETA: 16:37 - loss: 1.4857 - acc: 0.36 - ETA: 15:42 - loss: 1.4894 - acc: 0.37 - ETA: 14:50 - loss: 1.4822 - acc: 0.38 - ETA: 13:53 - loss: 1.4705 - acc: 0.38 - ETA: 12:58 - loss: 1.4834 - acc: 0.38 - ETA: 12:01 - loss: 1.4740 - acc: 0.38 - ETA: 11:07 - loss: 1.4618 - acc: 0.39 - ETA: 10:11 - loss: 1.4583 - acc: 0.39 - ETA: 9:17 - loss: 1.4624 - acc: 0.3945 - ETA: 8:21 - loss: 1.4607 - acc: 0.394 - ETA: 7:26 - loss: 1.4618 - acc: 0.394 - ETA: 6:30 - loss: 1.4641 - acc: 0.395 - ETA: 5:35 - loss: 1.4583 - acc: 0.397 - ETA: 4:40 - loss: 1.4597 - acc: 0.398 - ETA: 3:45 - loss: 1.4525 - acc: 0.400 - ETA: 2:50 - loss: 1.4486 - acc: 0.400 - ETA: 1:54 - loss: 1.4496 - acc: 0.400 - ETA: 59s - loss: 1.4458 - acc: 0.402 - ETA: 4s - loss: 1.4440 - acc: 0.4012 - 1280s 119ms/step - loss: 1.4861 - acc: 0.4006 - val_loss: 1.6066 - val_acc: 0.3475\n",
      "Epoch 9/10\n",
      "10794/10794 [==============================] - ETA: 18:35 - loss: 1.3993 - acc: 0.42 - ETA: 17:33 - loss: 1.4475 - acc: 0.43 - ETA: 16:39 - loss: 1.4805 - acc: 0.42 - ETA: 15:43 - loss: 1.4740 - acc: 0.41 - ETA: 14:45 - loss: 1.4574 - acc: 0.42 - ETA: 13:51 - loss: 1.4776 - acc: 0.42 - ETA: 12:55 - loss: 1.4749 - acc: 0.41 - ETA: 12:01 - loss: 1.4676 - acc: 0.41 - ETA: 11:05 - loss: 1.4688 - acc: 0.41 - ETA: 10:11 - loss: 1.4590 - acc: 0.41 - ETA: 9:15 - loss: 1.4548 - acc: 0.4114 - ETA: 8:21 - loss: 1.4495 - acc: 0.412 - ETA: 7:25 - loss: 1.4496 - acc: 0.412 - ETA: 6:30 - loss: 1.4398 - acc: 0.414 - ETA: 5:35 - loss: 1.4303 - acc: 0.413 - ETA: 4:40 - loss: 1.4246 - acc: 0.414 - ETA: 3:45 - loss: 1.4249 - acc: 0.414 - ETA: 2:50 - loss: 1.4246 - acc: 0.414 - ETA: 1:55 - loss: 1.4250 - acc: 0.414 - ETA: 59s - loss: 1.4208 - acc: 0.415 - ETA: 4s - loss: 1.4229 - acc: 0.4128 - 1281s 119ms/step - loss: 1.4246 - acc: 0.4126 - val_loss: 1.5753 - val_acc: 0.3767\n",
      "Epoch 10/10\n",
      "10794/10794 [==============================] - ETA: 18:25 - loss: 1.3249 - acc: 0.44 - ETA: 17:32 - loss: 1.3503 - acc: 0.42 - ETA: 16:34 - loss: 1.3852 - acc: 0.41 - ETA: 15:42 - loss: 1.4028 - acc: 0.42 - ETA: 14:46 - loss: 1.4036 - acc: 0.42 - ETA: 13:52 - loss: 1.4080 - acc: 0.42 - ETA: 12:59 - loss: 1.4306 - acc: 0.42 - ETA: 12:05 - loss: 1.4458 - acc: 0.41 - ETA: 11:10 - loss: 1.4502 - acc: 0.41 - ETA: 10:16 - loss: 1.4421 - acc: 0.41 - ETA: 9:21 - loss: 1.4314 - acc: 0.4155 - ETA: 8:25 - loss: 1.4289 - acc: 0.414 - ETA: 7:29 - loss: 1.4190 - acc: 0.414 - ETA: 6:33 - loss: 1.4281 - acc: 0.412 - ETA: 5:37 - loss: 1.4283 - acc: 0.413 - ETA: 4:41 - loss: 1.4241 - acc: 0.413 - ETA: 3:46 - loss: 1.4240 - acc: 0.411 - ETA: 2:51 - loss: 1.4304 - acc: 0.411 - ETA: 1:55 - loss: 1.4311 - acc: 0.411 - ETA: 1:00 - loss: 1.4389 - acc: 0.409 - ETA: 4s - loss: 1.4321 - acc: 0.4106  - 1285s 119ms/step - loss: 1.4728 - acc: 0.4100 - val_loss: 1.5699 - val_acc: 0.3625\n"
     ]
    }
   ],
   "source": [
    "# https://stackoverflow.com/questions/49618986/neural-network-in-keras-with-two-different-input-types-images-and-values\n",
    "# https://www.learnopencv.com/keras-tutorial-transfer-learning-using-pre-trained-models/\n",
    "\n",
    "transfer = Xception(weights='imagenet', include_top=False, input_shape=(height, width, 3))\n",
    "\n",
    "# Freeze Xception\n",
    "for layer in transfer.layers[:-3]:\n",
    "    layer.trainable = False\n",
    "\n",
    "# Inputs\n",
    "image_input = Input(shape=(height, width, 3))\n",
    "aux_input = Input(shape=(len(list(X_train_else)),))\n",
    "\n",
    "# Images:\n",
    "transfer = transfer(image_input)\n",
    "flatten = Flatten()(transfer)\n",
    "\n",
    "# Aux input:\n",
    "x = Dense(250, activation='relu')(aux_input)\n",
    "x = Dense(350, activation='relu')(x)\n",
    "x = Dense(450, activation='relu')(x)\n",
    "x = Dense(700, activation='relu')(x)\n",
    "\n",
    "# Merged:\n",
    "merge = concatenate([flatten, x])\n",
    "x = Dense(100)(merge)\n",
    "h = Dense(5)(x)\n",
    "\n",
    "# Predictions:\n",
    "predictions = Activation('softmax')(h)\n",
    "\n",
    "model = Model(inputs=[image_input, aux_input], outputs=predictions)\n",
    "model.compile(optimizer=Adam(lr=0.001), loss='categorical_crossentropy', metrics=['accuracy'])\n",
    "\n",
    "\n",
    "history = model.fit([X_train_img, X_train_else], \n",
    "                    keras.utils.to_categorical(y_train),\n",
    "                    batch_size=BATCH_SIZE, \n",
    "                    epochs=10, \n",
    "                    validation_split=0.1,\n",
    "                    callbacks=[ModelCheckpoint('test_model.h5', save_best_only=True)])"
   ]
  },
  {
   "cell_type": "code",
   "execution_count": 8,
   "metadata": {},
   "outputs": [
    {
     "data": {
      "text/plain": [
       "Text(0.5, 1.0, 'Accuracy')"
      ]
     },
     "execution_count": 8,
     "metadata": {},
     "output_type": "execute_result"
    },
    {
     "data": {
      "image/png": "[encoded data removed]",
      "text/plain": [
       "<Figure size 1152x432 with 2 Axes>"
      ]
     },
     "metadata": {
      "needs_background": "light"
     },
     "output_type": "display_data"
    }
   ],
   "source": [
    "plt.figure(figsize=(16, 6))\n",
    "\n",
    "plt.subplot(1, 2, 1)\n",
    "plt.plot(history.history['loss'])\n",
    "plt.plot(history.history['val_loss'])\n",
    "plt.xlabel('Epoch')\n",
    "plt.ylabel('Loss')\n",
    "plt.legend(['Training', 'Validation'])\n",
    "plt.title('Loss')\n",
    "\n",
    "plt.subplot(1, 2, 2)\n",
    "plt.plot(history.history['acc'])\n",
    "plt.plot(history.history['val_acc'])\n",
    "plt.xlabel('Epoch')\n",
    "plt.ylabel('Accuracy')\n",
    "plt.legend(['Training', 'Validation'])\n",
    "plt.title('Accuracy')"
   ]
  },
  {
   "cell_type": "markdown",
   "metadata": {},
   "source": [
    "# Evaluate models\n",
    "\n",
    "## Neural Net"
   ]
  },
  {
   "cell_type": "code",
   "execution_count": 9,
   "metadata": {
    "pycharm": {}
   },
   "outputs": [],
   "source": [
    "train_pred = [np.argmax(pred) for pred in model.predict([X_train_img, X_train_else])]\n",
    "test_predictions = [np.argmax(pred) for pred in model.predict([X_test_img, X_test_else])]"
   ]
  },
  {
   "cell_type": "code",
   "execution_count": 10,
   "metadata": {
    "pycharm": {}
   },
   "outputs": [
    {
     "name": "stdout",
     "output_type": "stream",
     "text": [
      "Kappa on train: 0.3534\n",
      "Accuracy on train: 0.4324\n",
      "________________\n",
      "Kappa on test: 0.2685\n",
      "Accuracy on test: 0.3531\n"
     ]
    }
   ],
   "source": [
    "print(\"Kappa on train: {}\".format(round(cohen_kappa_score(y_train, train_pred, weights=\"quadratic\"), 4)))\n",
    "print(\"Accuracy on train: {}\".format(round(accuracy_score(y_train, train_pred), 4)))\n",
    "print(\"________________\")\n",
    "print(\"Kappa on test: {}\".format(round(cohen_kappa_score(y_test, test_predictions, weights=\"quadratic\"), 4)))\n",
    "print(\"Accuracy on test: {}\".format(round(accuracy_score(y_test, test_predictions), 4)))"
   ]
  },
  {
   "cell_type": "markdown",
   "metadata": {},
   "source": [
    "## Baseline"
   ]
  },
  {
   "cell_type": "code",
   "execution_count": 11,
   "metadata": {
    "pycharm": {}
   },
   "outputs": [
    {
     "name": "stdout",
     "output_type": "stream",
     "text": [
      "Kappa on train: 0.8111\n",
      "Accuracy on train: 0.8407\n",
      "________________\n",
      "Kappa on test: 0.2572\n",
      "Accuracy on test: 0.3688\n"
     ]
    }
   ],
   "source": [
    "train_pred = [pred for pred in rf.predict(X_train_else)]\n",
    "test_predictions = [pred for pred in rf.predict(X_test_else)]\n",
    "\n",
    "print(\"Kappa on train: {}\".format(round(cohen_kappa_score(y_train, train_pred, weights=\"quadratic\"), 4)))\n",
    "print(\"Accuracy on train: {}\".format(round(accuracy_score(y_train, train_pred), 4)))\n",
    "print(\"________________\")\n",
    "print(\"Kappa on test: {}\".format(round(cohen_kappa_score(y_test, test_predictions, weights=\"quadratic\"), 4)))\n",
    "print(\"Accuracy on test: {}\".format(round(accuracy_score(y_test, test_predictions), 4)))"
   ]
  },
  {
   "cell_type": "markdown",
   "metadata": {},
   "source": [
    "## Kaggle Test"
   ]
  },
  {
   "cell_type": "code",
   "execution_count": 12,
   "metadata": {
    "pycharm": {}
   },
   "outputs": [
    {
     "name": "stderr",
     "output_type": "stream",
     "text": [
      "100%|█████████████████████████████████████████████████████████████████████████████| 3972/3972 [00:07<00:00, 512.66it/s]\n",
      "100%|██████████████████████████████████████████████████████████████████████████████| 3972/3972 [01:47<00:00, 36.95it/s]\n"
     ]
    }
   ],
   "source": [
    "test, _, test_pet_ids = read_csv_kaggle(os.path.join(data_dir, \"test.csv\"), False)\n",
    "test[\"sent_magnitude\"], test[\"sent_score\"] = read_sentiment(test_pet_ids, sentiment_test_dir)\n",
    "test_images = read_images([os.path.join(test_image, pet_id + \"-1.jpg\") for pet_id in test_pet_ids])\n",
    "test_images_std = (test_images - mean)/std"
   ]
  },
  {
   "cell_type": "markdown",
   "metadata": {
    "pycharm": {}
   },
   "source": [
    "### Neural Net"
   ]
  },
  {
   "cell_type": "code",
   "execution_count": 13,
   "metadata": {
    "pycharm": {}
   },
   "outputs": [],
   "source": [
    "loaded = load_model('test_model.h5')\n",
    "test_pred = loaded.predict([test_images_std, test])\n",
    "test_pred_label = [np.argmax(pred) for pred in test_pred]\n",
    "pd.DataFrame({'PetID': test_pet_ids, 'AdoptionSpeed': test_pred_label}).to_csv('neural.csv', index=False)"
   ]
  },
  {
   "cell_type": "markdown",
   "metadata": {
    "pycharm": {}
   },
   "source": [
    "### Baseline"
   ]
  },
  {
   "cell_type": "code",
   "execution_count": 14,
   "metadata": {
    "pycharm": {}
   },
   "outputs": [],
   "source": [
    "pd.DataFrame({'PetID': test_pet_ids, 'AdoptionSpeed': rf.predict(test)}).to_csv('baseline.csv', index=False)"
   ]
  },
  {
   "cell_type": "code",
   "execution_count": null,
   "metadata": {},
   "outputs": [],
   "source": []
  },
  {
   "cell_type": "code",
   "execution_count": null,
   "metadata": {},
   "outputs": [],
   "source": []
  }
 ],
 "metadata": {
  "kernelspec": {
   "display_name": "PyCharm (PetFinderNN)",
   "language": "python",
   "name": "pycharm-b185692d"
  },
  "language_info": {
   "codemirror_mode": {
    "name": "ipython",
    "version": 3
   },
   "file_extension": ".py",
   "mimetype": "text/x-python",
   "name": "python",
   "nbconvert_exporter": "python",
   "pygments_lexer": "ipython3",
   "version": "3.6.7"
  },
  "pycharm": {
   "stem_cell": {
    "cell_type": "raw",
    "metadata": {
     "collapsed": false
    },
    "source": []
   }
  }
 },
 "nbformat": 4,
 "nbformat_minor": 1
}
