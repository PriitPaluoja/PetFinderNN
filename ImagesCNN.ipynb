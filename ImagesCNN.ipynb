{
 "cells": [
  {
   "cell_type": "code",
   "execution_count": 33,
   "metadata": {
    "pycharm": {
     "is_executing": false
    }
   },
   "outputs": [],
   "source": [
    "import os\n",
    "import pickle\n",
    "\n",
    "import keras.backend as K\n",
    "import keras.utils\n",
    "import numpy as np\n",
    "import pandas as pd\n",
    "import tensorflow as tf\n",
    "from PIL import Image\n",
    "from keras.applications import ResNet50\n",
    "from keras.layers import Input, Activation, Flatten, Dense\n",
    "from keras.layers import (concatenate)\n",
    "from keras.models import Model\n",
    "from keras.optimizers import Adam\n",
    "from skimage.transform import resize\n",
    "from sklearn.metrics import accuracy_score, cohen_kappa_score\n",
    "from sklearn.model_selection import train_test_split\n",
    "from tqdm import tqdm\n",
    "\n",
    "\n",
    "\n",
    "data_image = \"C:\\\\Users\\\\Priit\\\\Dropbox\\\\Informaatika\\\\Magister\\\\Tehisnärvivõrgud\\\\data\\\\train_images\"\n",
    "data_dir = \"C:\\\\Users\\\\Priit\\\\Dropbox\\\\Informaatika\\\\Magister\\\\Tehisnärvivõrgud\\\\data\"\n",
    "\n",
    "label_column = \"AdoptionSpeed\"\n",
    "\n",
    "\n",
    "test_size = 0.2\n",
    "height, width = 100, 100"
   ]
  },
  {
   "cell_type": "code",
   "execution_count": 36,
   "metadata": {
    "pycharm": {}
   },
   "outputs": [],
   "source": [
    "# Source: https://www.kaggle.com/christofhenkel/weighted-kappa-loss-for-keras-tensorflow\n",
    "def kappa_loss(y_pred, y_true, y_pow=2, eps=1e-10, N=5, bsize=256, name='kappa'):\n",
    "    \"\"\"A continuous differentiable approximation of discrete kappa loss.\n",
    "        Args:\n",
    "            y_pred: 2D tensor or array, [batch_size, num_classes]\n",
    "            y_true: 2D tensor or array,[batch_size, num_classes]\n",
    "            y_pow: int,  e.g. y_pow=2\n",
    "            N: typically num_classes of the model\n",
    "            bsize: batch_size of the training or validation ops\n",
    "            eps: a float, prevents divide by zero\n",
    "            name: Optional scope/name for op_scope.\n",
    "        Returns:\n",
    "            A tensor with the kappa loss.\"\"\"\n",
    "\n",
    "    with tf.name_scope(name):\n",
    "        y_true = tf.to_float(y_true)\n",
    "        repeat_op = tf.to_float(tf.tile(tf.reshape(tf.range(0, N), [N, 1]), [1, N]))\n",
    "        repeat_op_sq = tf.square((repeat_op - tf.transpose(repeat_op)))\n",
    "        weights = repeat_op_sq / tf.to_float((N - 1) ** 2)\n",
    "    \n",
    "        pred_ = y_pred ** y_pow\n",
    "        try:\n",
    "            pred_norm = pred_ / (eps + tf.reshape(tf.reduce_sum(pred_, 1), [-1, 1]))\n",
    "        except Exception:\n",
    "            pred_norm = pred_ / (eps + tf.reshape(tf.reduce_sum(pred_, 1), [bsize, 1]))\n",
    "    \n",
    "        hist_rater_a = tf.reduce_sum(pred_norm, 0)\n",
    "        hist_rater_b = tf.reduce_sum(y_true, 0)\n",
    "    \n",
    "        conf_mat = tf.matmul(tf.transpose(pred_norm), y_true)\n",
    "    \n",
    "        nom = tf.reduce_sum(weights * conf_mat)\n",
    "        denom = tf.reduce_sum(weights * tf.matmul(\n",
    "            tf.reshape(hist_rater_a, [N, 1]), tf.reshape(hist_rater_b, [1, N])) /\n",
    "                              tf.to_float(bsize))\n",
    "    \n",
    "        return nom / (denom + eps)"
   ]
  },
  {
   "cell_type": "code",
   "execution_count": 2,
   "metadata": {
    "pycharm": {}
   },
   "outputs": [],
   "source": [
    "train = pd.read_csv(os.path.join(data_dir, \"train.csv\"), sep=',')\n",
    "pet_ids = train[\"PetID\"]\n",
    "\n",
    "selected_columns = [\"Type\",\n",
    "                    \"Gender\",\n",
    "                    \"Color1\",\n",
    "                    \"Color2\",\n",
    "                    \"Color3\",\n",
    "                    \"MaturitySize\",\n",
    "                    \"FurLength\",\n",
    "                    \"Vaccinated\",\n",
    "                    \"Dewormed\",\n",
    "                    \"Sterilized\",\n",
    "                    \"Health\",\n",
    "                    \"State\",\n",
    "                    \"MaturitySize\"]\n",
    "\n",
    "\n",
    "\n",
    "\n",
    "y = train[label_column]\n",
    "\n",
    "# One-Hot-encode\n",
    "X = pd.get_dummies(train[selected_columns], columns=selected_columns)\n",
    "\n",
    "# Normalize:\n",
    "to_normalize = [\"Age\", \"Fee\", \"Quantity\"]\n",
    "for to_norm in to_normalize:\n",
    "     X[to_norm] = (train[to_norm] - train[to_norm].mean()) / train[to_norm].std()"
   ]
  },
  {
   "cell_type": "code",
   "execution_count": 3,
   "metadata": {
    "pycharm": {}
   },
   "outputs": [
    {
     "name": "stderr",
     "output_type": "stream",
     "text": [
      "100%|████████████████████████████████████████████████████████████████████████████| 14993/14993 [08:55<00:00, 27.98it/s]\n"
     ]
    },
    {
     "name": "stdout",
     "output_type": "stream",
     "text": [
      "(14993, 100, 100, 3)\n"
     ]
    }
   ],
   "source": [
    "f_im_name = \"images.binary\"\n",
    "\n",
    "if not os.path.isfile(f_im_name):\n",
    "    \n",
    "    image_paths = [os.path.join(data_dir, data_image, pet_id + \"-1.jpg\") for pet_id in pet_ids]\n",
    "\n",
    "    images = []\n",
    "\n",
    "    for path in tqdm(image_paths):\n",
    "        if os.path.isfile(path):\n",
    "            image = Image.open(path).convert(\"RGB\") \n",
    "            image.load()\n",
    "            image = np.asarray(image, dtype=\"int32\" )\n",
    "            image = resize(image, (height, width), anti_aliasing=True, mode='constant')\n",
    "        else:\n",
    "            image = np.random.rand(height, width, 3) * 255\n",
    "        \n",
    "        images.append(image)\n",
    "    \n",
    "    images = np.array(images)\n",
    "\n",
    "    # Standardize:\n",
    "    mean = np.mean(images)\n",
    "    std = np.std(images)\n",
    "\n",
    "    images_meanstd = (images - mean)/std\n",
    "    with open(f_im_name, 'wb') as handle:\n",
    "        pickle.dump(images_meanstd, handle, protocol=pickle.HIGHEST_PROTOCOL)\n",
    "else:\n",
    "    with open(f_im_name, 'rb') as handle:\n",
    "        images_meanstd = pickle.load(handle)\n",
    "\n",
    "print(images_meanstd.shape)"
   ]
  },
  {
   "cell_type": "code",
   "execution_count": 20,
   "metadata": {
    "pycharm": {}
   },
   "outputs": [],
   "source": [
    "X_train_img, X_test_img, X_train_else, X_test_else, y_train, y_test = train_test_split(images_meanstd, \n",
    "                                                                                       X, \n",
    "                                                                                       y, \n",
    "                                                                                       test_size=test_size,\n",
    "                                                                                       random_state=1)"
   ]
  },
  {
   "cell_type": "code",
   "execution_count": 45,
   "metadata": {
    "pycharm": {
     "is_executing": false,
     "metadata": false,
     "name": "#%%\n"
    }
   },
   "outputs": [
    {
     "name": "stdout",
     "output_type": "stream",
     "text": [
      "Train on 599 samples, validate on 150 samples\n",
      "Epoch 1/1\n",
      "599/599 [==============================] - ETA: 1:34:50 - loss: 32.0270 - acc: 0.0000e+0 - ETA: 47:24 - loss: 32.0119 - acc: 0.1250      - ETA: 31:35 - loss: 32.0396 - acc: 0.083 - ETA: 23:40 - loss: 32.0297 - acc: 0.062 - ETA: 18:54 - loss: 32.0237 - acc: 0.075 - ETA: 15:43 - loss: 32.0198 - acc: 0.104 - ETA: 13:27 - loss: 32.0170 - acc: 0.089 - ETA: 11:44 - loss: 32.0148 - acc: 0.109 - ETA: 10:24 - loss: 32.0132 - acc: 0.125 - ETA: 9:19 - loss: 32.0119 - acc: 0.125 - ETA: 8:27 - loss: 32.0108 - acc: 0.13 - ETA: 7:42 - loss: 32.0099 - acc: 0.14 - ETA: 7:05 - loss: 32.0091 - acc: 0.14 - ETA: 6:33 - loss: 32.0085 - acc: 0.14 - ETA: 6:05 - loss: 32.0079 - acc: 0.13 - ETA: 5:40 - loss: 32.0074 - acc: 0.14 - ETA: 5:18 - loss: 32.0070 - acc: 0.15 - ETA: 4:59 - loss: 32.0066 - acc: 0.14 - ETA: 4:41 - loss: 32.0062 - acc: 0.13 - ETA: 4:25 - loss: 32.0059 - acc: 0.14 - ETA: 4:10 - loss: 32.0057 - acc: 0.14 - ETA: 3:57 - loss: 32.0054 - acc: 0.14 - ETA: 3:45 - loss: 32.0052 - acc: 0.14 - ETA: 3:33 - loss: 32.0049 - acc: 0.14 - ETA: 3:23 - loss: 32.0047 - acc: 0.14 - ETA: 3:13 - loss: 32.0046 - acc: 0.14 - ETA: 3:04 - loss: 32.0044 - acc: 0.14 - ETA: 2:55 - loss: 32.0042 - acc: 0.15 - ETA: 2:47 - loss: 32.0041 - acc: 0.14 - ETA: 2:40 - loss: 32.0040 - acc: 0.14 - ETA: 2:32 - loss: 32.0038 - acc: 0.14 - ETA: 2:26 - loss: 32.0037 - acc: 0.14 - ETA: 2:19 - loss: 32.0036 - acc: 0.14 - ETA: 2:13 - loss: 32.0035 - acc: 0.14 - ETA: 2:07 - loss: 32.0034 - acc: 0.15 - ETA: 2:02 - loss: 32.0033 - acc: 0.14 - ETA: 1:56 - loss: 32.0032 - acc: 0.14 - ETA: 1:51 - loss: 32.0031 - acc: 0.15 - ETA: 1:47 - loss: 32.0030 - acc: 0.15 - ETA: 1:42 - loss: 32.0030 - acc: 0.15 - ETA: 1:37 - loss: 32.0029 - acc: 0.15 - ETA: 1:33 - loss: 32.0028 - acc: 0.16 - ETA: 1:29 - loss: 32.0028 - acc: 0.16 - ETA: 1:25 - loss: 32.0027 - acc: 0.16 - ETA: 1:21 - loss: 32.0026 - acc: 0.16 - ETA: 1:17 - loss: 32.0026 - acc: 0.16 - ETA: 1:13 - loss: 32.0025 - acc: 0.16 - ETA: 1:10 - loss: 32.0025 - acc: 0.15 - ETA: 1:06 - loss: 32.0024 - acc: 0.15 - ETA: 1:03 - loss: 32.0024 - acc: 0.15 - ETA: 1:00 - loss: 32.0023 - acc: 0.15 - ETA: 57s - loss: 32.0023 - acc: 0.1562 - ETA: 54s - loss: 32.0022 - acc: 0.155 - ETA: 51s - loss: 32.0022 - acc: 0.157 - ETA: 48s - loss: 32.0022 - acc: 0.159 - ETA: 45s - loss: 32.0021 - acc: 0.162 - ETA: 42s - loss: 32.0021 - acc: 0.164 - ETA: 39s - loss: 32.0020 - acc: 0.161 - ETA: 36s - loss: 32.0020 - acc: 0.161 - ETA: 34s - loss: 32.0020 - acc: 0.162 - ETA: 31s - loss: 32.0019 - acc: 0.163 - ETA: 29s - loss: 32.0019 - acc: 0.161 - ETA: 26s - loss: 32.0019 - acc: 0.162 - ETA: 24s - loss: 32.0019 - acc: 0.164 - ETA: 21s - loss: 32.0018 - acc: 0.167 - ETA: 19s - loss: 32.0018 - acc: 0.164 - ETA: 17s - loss: 32.0018 - acc: 0.166 - ETA: 14s - loss: 32.0017 - acc: 0.167 - ETA: 12s - loss: 32.0017 - acc: 0.164 - ETA: 10s - loss: 32.0017 - acc: 0.166 - ETA: 8s - loss: 32.0017 - acc: 0.165 - ETA: 6s - loss: 32.0016 - acc: 0.16 - ETA: 3s - loss: 32.0016 - acc: 0.16 - ETA: 1s - loss: 32.0016 - acc: 0.16 - 185s 308ms/step - loss: 32.0550 - acc: 0.1703 - val_loss: 32.4267 - val_acc: 0.2133\n"
     ]
    }
   ],
   "source": [
    "# https://stackoverflow.com/questions/49618986/neural-network-in-keras-with-two-different-input-types-images-and-values\n",
    "# https://www.learnopencv.com/keras-tutorial-transfer-learning-using-pre-trained-models/\n",
    "\n",
    "transfer = ResNet50(weights='imagenet', include_top=False, input_shape=(height, width, 3))\n",
    "\n",
    "# Freeze ResNet50\n",
    "for layer in transfer.layers[:-3]:\n",
    "    layer.trainable = False\n",
    "\n",
    "# Inputs\n",
    "image_input = Input(shape=(height, width, 3))\n",
    "aux_input = Input(shape=(len(list(X_train_else)),))\n",
    "\n",
    "# Images:\n",
    "transfer = transfer(image_input)\n",
    "transfer = Dense(150, activation='relu')(transfer)\n",
    "flatten = Flatten()(transfer)\n",
    "\n",
    "# Aux input:\n",
    "x = Dense(150, activation='relu')(aux_input)\n",
    "x = Dense(250, activation='relu')(x)\n",
    "x = Dense(350, activation='relu')(x)\n",
    "\n",
    "# Merged:\n",
    "merge = concatenate([flatten, x])\n",
    "x = Dense(500)(merge)\n",
    "x = Dense(450, activation='relu')(x)\n",
    "x = Dense(100, activation='relu')(x)\n",
    "h = Dense(5)(x)\n",
    "\n",
    "# Predictions:\n",
    "predictions = Activation('softmax')(h)\n",
    "\n",
    "def kappa(y_true, y_pred):\n",
    "    y_pred = map(lambda x: np.argmax(x), y_pred) \n",
    "    return cohen_kappa_score(y_true, y_pred, weights=\"quadratic\")\n",
    "\n",
    "model = Model(inputs=[image_input, aux_input], outputs=predictions)\n",
    "model.compile(optimizer=Adam(lr=0.001), loss=kappa_loss, metrics=['accuracy'])\n",
    "\n",
    "\n",
    "history = model.fit([X_train_img, X_train_else], \n",
    "                    keras.utils.to_categorical(y_train),\n",
    "                    batch_size=8, \n",
    "                    epochs=1, \n",
    "                    validation_split=0.2)"
   ]
  },
  {
   "cell_type": "code",
   "execution_count": 46,
   "metadata": {
    "pycharm": {}
   },
   "outputs": [],
   "source": [
    "train_pred = [np.argmax(pred) for pred in model.predict([X_train_img, X_train_else])]\n",
    "test_predictions = [np.argmax(pred) for pred in model.predict([X_test_img, X_test_else])]"
   ]
  },
  {
   "cell_type": "code",
   "execution_count": 47,
   "metadata": {
    "pycharm": {}
   },
   "outputs": [
    {
     "name": "stdout",
     "output_type": "stream",
     "text": [
      "Kappa on train: 0.0\n",
      "Accuracy on train: 0.1789\n",
      "________________\n"
     ]
    }
   ],
   "source": [
    "print(\"Kappa on train: {}\".format(round(cohen_kappa_score(y_train, train_pred, weights=\"quadratic\"), 4)))\n",
    "print(\"Accuracy on train: {}\".format(round(accuracy_score(y_train, train_pred), 4)))\n",
    "print(\"________________\")\n",
    "print(\"Kappa on test: {}\".format(round(cohen_kappa_score(y_test, test_predictions, weights=\"quadratic\"), 4)))\n",
    "print(\"Accuracy on test: {}\".format(round(accuracy_score(y_test, test_predictions), 4)))"
   ]
  },
  {
   "cell_type": "code",
   "execution_count": null,
   "metadata": {
    "pycharm": {}
   },
   "outputs": [],
   "source": []
  }
 ],
 "metadata": {
  "kernelspec": {
   "display_name": "PyCharm (PetFinderNN)",
   "language": "python",
   "name": "pycharm-b185692d"
  },
  "language_info": {
   "codemirror_mode": {
    "name": "ipython",
    "version": 3
   },
   "file_extension": ".py",
   "mimetype": "text/x-python",
   "name": "python",
   "nbconvert_exporter": "python",
   "pygments_lexer": "ipython3",
   "version": "3.6.7"
  }
 },
 "nbformat": 4,
 "nbformat_minor": 1
}
